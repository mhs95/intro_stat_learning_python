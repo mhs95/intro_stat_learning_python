{
 "cells": [
  {
   "cell_type": "code",
   "execution_count": 1,
   "id": "6a3390dc",
   "metadata": {},
   "outputs": [],
   "source": [
    "import numpy as np\n",
    "import pandas as pd\n",
    "import matplotlib.pyplot as plt\n",
    "import seaborn as sns\n",
    "import warnings\n",
    "import scipy.cluster.hierarchy as shc\n",
    "\n",
    "from sklearn.preprocessing import scale, normalize, StandardScaler\n",
    "from sklearn.decomposition import PCA\n",
    "from sklearn.cluster import KMeans, AgglomerativeClustering\n",
    "from sklearn.datasets import make_blobs\n",
    "\n",
    "%matplotlib inline\n",
    "warnings.simplefilter(action='ignore', category=FutureWarning)"
   ]
  },
  {
   "cell_type": "markdown",
   "id": "b1fd2425",
   "metadata": {},
   "source": [
    "### 8"
   ]
  },
  {
   "cell_type": "code",
   "execution_count": 2,
   "id": "ba21b6a9",
   "metadata": {},
   "outputs": [
    {
     "data": {
      "text/html": [
       "<div>\n",
       "<style scoped>\n",
       "    .dataframe tbody tr th:only-of-type {\n",
       "        vertical-align: middle;\n",
       "    }\n",
       "\n",
       "    .dataframe tbody tr th {\n",
       "        vertical-align: top;\n",
       "    }\n",
       "\n",
       "    .dataframe thead th {\n",
       "        text-align: right;\n",
       "    }\n",
       "</style>\n",
       "<table border=\"1\" class=\"dataframe\">\n",
       "  <thead>\n",
       "    <tr style=\"text-align: right;\">\n",
       "      <th></th>\n",
       "      <th>Murder</th>\n",
       "      <th>Assault</th>\n",
       "      <th>UrbanPop</th>\n",
       "      <th>Rape</th>\n",
       "    </tr>\n",
       "  </thead>\n",
       "  <tbody>\n",
       "    <tr>\n",
       "      <th>Alabama</th>\n",
       "      <td>13.2</td>\n",
       "      <td>236</td>\n",
       "      <td>58</td>\n",
       "      <td>21.2</td>\n",
       "    </tr>\n",
       "    <tr>\n",
       "      <th>Alaska</th>\n",
       "      <td>10.0</td>\n",
       "      <td>263</td>\n",
       "      <td>48</td>\n",
       "      <td>44.5</td>\n",
       "    </tr>\n",
       "    <tr>\n",
       "      <th>Arizona</th>\n",
       "      <td>8.1</td>\n",
       "      <td>294</td>\n",
       "      <td>80</td>\n",
       "      <td>31.0</td>\n",
       "    </tr>\n",
       "    <tr>\n",
       "      <th>Arkansas</th>\n",
       "      <td>8.8</td>\n",
       "      <td>190</td>\n",
       "      <td>50</td>\n",
       "      <td>19.5</td>\n",
       "    </tr>\n",
       "    <tr>\n",
       "      <th>California</th>\n",
       "      <td>9.0</td>\n",
       "      <td>276</td>\n",
       "      <td>91</td>\n",
       "      <td>40.6</td>\n",
       "    </tr>\n",
       "  </tbody>\n",
       "</table>\n",
       "</div>"
      ],
      "text/plain": [
       "            Murder  Assault  UrbanPop  Rape\n",
       "Alabama       13.2      236        58  21.2\n",
       "Alaska        10.0      263        48  44.5\n",
       "Arizona        8.1      294        80  31.0\n",
       "Arkansas       8.8      190        50  19.5\n",
       "California     9.0      276        91  40.6"
      ]
     },
     "execution_count": 2,
     "metadata": {},
     "output_type": "execute_result"
    }
   ],
   "source": [
    "# Load dataset\n",
    "arrests = pd.read_csv('../../data/USArrests.csv', index_col=0)\n",
    "arrests.head()"
   ]
  },
  {
   "cell_type": "code",
   "execution_count": 3,
   "id": "9f0f7864",
   "metadata": {},
   "outputs": [],
   "source": [
    "# Scale dataset\n",
    "scl = StandardScaler()\n",
    "arrests_scaled = scl.fit_transform(arrests)"
   ]
  },
  {
   "cell_type": "code",
   "execution_count": 4,
   "id": "5206111b",
   "metadata": {},
   "outputs": [
    {
     "data": {
      "text/plain": [
       "array([0.62006039, 0.24744129, 0.0891408 , 0.04335752])"
      ]
     },
     "execution_count": 4,
     "metadata": {},
     "output_type": "execute_result"
    }
   ],
   "source": [
    "# Perform PCA\n",
    "pca = PCA()\n",
    "pca_model = pca.fit(arrests_scaled)\n",
    "\n",
    "# Get proportion of variance explained (PVA) directly\n",
    "pca_model.explained_variance_ratio_"
   ]
  },
  {
   "cell_type": "code",
   "execution_count": 5,
   "id": "560b272a",
   "metadata": {},
   "outputs": [
    {
     "name": "stdout",
     "output_type": "stream",
     "text": [
      "principal component number: 1\n",
      "0.6200603947873735\n",
      "principal component number: 2\n",
      "0.24744128813496036\n",
      "principal component number: 3\n",
      "0.08914079514520756\n",
      "principal component number: 4\n",
      "0.043357521932458856\n"
     ]
    }
   ],
   "source": [
    "# Get PVE using formula\n",
    "for k in range(0,np.shape(pca_model.components_)[1]):\n",
    "    # Numerator\n",
    "    accum = 0\n",
    "    num = 0\n",
    "    for i in range(0, np.shape(arrests_scaled)[0]):\n",
    "        for j in range(0, np.shape(arrests_scaled)[1]):\n",
    "            accum += pca_model.components_[k][j] * arrests_scaled[i][j]\n",
    "        num += accum**2\n",
    "        accum = 0\n",
    "\n",
    "    # Denominator\n",
    "    accum = 0\n",
    "    den = 0\n",
    "    for j in range(0, np.shape(arrests_scaled)[1]):\n",
    "        for i in range(0, np.shape(arrests_scaled)[0]):\n",
    "            accum += arrests_scaled[i][j]**2\n",
    "        den += accum\n",
    "        accum = 0\n",
    "\n",
    "    # Result\n",
    "    print('principal component number:', k+1)\n",
    "    print(num/den)"
   ]
  },
  {
   "cell_type": "markdown",
   "id": "8f4733b9",
   "metadata": {},
   "source": [
    "### 9"
   ]
  },
  {
   "cell_type": "code",
   "execution_count": 6,
   "id": "44e66fc7",
   "metadata": {},
   "outputs": [
    {
     "data": {
      "text/html": [
       "<div>\n",
       "<style scoped>\n",
       "    .dataframe tbody tr th:only-of-type {\n",
       "        vertical-align: middle;\n",
       "    }\n",
       "\n",
       "    .dataframe tbody tr th {\n",
       "        vertical-align: top;\n",
       "    }\n",
       "\n",
       "    .dataframe thead th {\n",
       "        text-align: right;\n",
       "    }\n",
       "</style>\n",
       "<table border=\"1\" class=\"dataframe\">\n",
       "  <thead>\n",
       "    <tr style=\"text-align: right;\">\n",
       "      <th></th>\n",
       "      <th>Murder</th>\n",
       "      <th>Assault</th>\n",
       "      <th>UrbanPop</th>\n",
       "      <th>Rape</th>\n",
       "    </tr>\n",
       "  </thead>\n",
       "  <tbody>\n",
       "    <tr>\n",
       "      <th>Alabama</th>\n",
       "      <td>13.2</td>\n",
       "      <td>236</td>\n",
       "      <td>58</td>\n",
       "      <td>21.2</td>\n",
       "    </tr>\n",
       "    <tr>\n",
       "      <th>Alaska</th>\n",
       "      <td>10.0</td>\n",
       "      <td>263</td>\n",
       "      <td>48</td>\n",
       "      <td>44.5</td>\n",
       "    </tr>\n",
       "    <tr>\n",
       "      <th>Arizona</th>\n",
       "      <td>8.1</td>\n",
       "      <td>294</td>\n",
       "      <td>80</td>\n",
       "      <td>31.0</td>\n",
       "    </tr>\n",
       "    <tr>\n",
       "      <th>Arkansas</th>\n",
       "      <td>8.8</td>\n",
       "      <td>190</td>\n",
       "      <td>50</td>\n",
       "      <td>19.5</td>\n",
       "    </tr>\n",
       "    <tr>\n",
       "      <th>California</th>\n",
       "      <td>9.0</td>\n",
       "      <td>276</td>\n",
       "      <td>91</td>\n",
       "      <td>40.6</td>\n",
       "    </tr>\n",
       "  </tbody>\n",
       "</table>\n",
       "</div>"
      ],
      "text/plain": [
       "            Murder  Assault  UrbanPop  Rape\n",
       "Alabama       13.2      236        58  21.2\n",
       "Alaska        10.0      263        48  44.5\n",
       "Arizona        8.1      294        80  31.0\n",
       "Arkansas       8.8      190        50  19.5\n",
       "California     9.0      276        91  40.6"
      ]
     },
     "execution_count": 6,
     "metadata": {},
     "output_type": "execute_result"
    }
   ],
   "source": [
    "# Load dataset\n",
    "arrests = pd.read_csv('../../data/USArrests.csv', index_col=0)\n",
    "arrests.head()"
   ]
  },
  {
   "cell_type": "code",
   "execution_count": 7,
   "id": "98ec1c58",
   "metadata": {},
   "outputs": [],
   "source": [
    "# Scale dataset\n",
    "scl = StandardScaler()\n",
    "arrests_scaled = scl.fit_transform(arrests)\n",
    "arrests_scaled = pd.DataFrame(arrests_scaled, columns = arrests.columns, index =arrests.index)"
   ]
  },
  {
   "cell_type": "code",
   "execution_count": 8,
   "id": "6678cbbf",
   "metadata": {},
   "outputs": [
    {
     "data": {
      "text/plain": [
       "<matplotlib.lines.Line2D at 0x7f95fb99fdd0>"
      ]
     },
     "execution_count": 8,
     "metadata": {},
     "output_type": "execute_result"
    },
    {
     "data": {
      "image/png": "[encoded data removed]",
      "text/plain": [
       "<Figure size 720x504 with 1 Axes>"
      ]
     },
     "metadata": {
      "needs_background": "light"
     },
     "output_type": "display_data"
    }
   ],
   "source": [
    "# Create dendogram\n",
    "plt.figure(figsize=(10, 7))  \n",
    "plt.title(\"Dendrograms\")  \n",
    "dend = shc.dendrogram(shc.linkage(arrests_scaled, method='ward'))\n",
    "plt.axhline(y=7, color='r', linestyle='--')"
   ]
  },
  {
   "cell_type": "code",
   "execution_count": 9,
   "id": "6d2b56fc",
   "metadata": {},
   "outputs": [],
   "source": [
    "# Cluster dataset\n",
    "cluster = AgglomerativeClustering(n_clusters=3, affinity='euclidean', linkage='ward')  \n",
    "cluster_preds = cluster.fit_predict(arrests_scaled)"
   ]
  },
  {
   "cell_type": "code",
   "execution_count": 10,
   "id": "c566e1e1",
   "metadata": {},
   "outputs": [
    {
     "name": "stdout",
     "output_type": "stream",
     "text": [
      "0 ['Alabama', 'Alaska', 'Arizona', 'California', 'Colorado', 'Florida', 'Georgia', 'Illinois', 'Louisiana', 'Maryland', 'Michigan', 'Mississippi', 'Nevada', 'New Mexico', 'New York', 'North Carolina', 'South Carolina', 'Tennessee', 'Texas']\n",
      "1 ['Arkansas', 'Connecticut', 'Delaware', 'Hawaii', 'Indiana', 'Kansas', 'Kentucky', 'Massachusetts', 'Missouri', 'New Jersey', 'Ohio', 'Oklahoma', 'Oregon', 'Pennsylvania', 'Rhode Island', 'Utah', 'Virginia', 'Washington', 'Wyoming']\n",
      "2 ['Idaho', 'Iowa', 'Maine', 'Minnesota', 'Montana', 'Nebraska', 'New Hampshire', 'North Dakota', 'South Dakota', 'Vermont', 'West Virginia', 'Wisconsin']\n"
     ]
    }
   ],
   "source": [
    "# Get the states in each cluster\n",
    "arrests['Predicted Cluster'] = cluster_preds\n",
    "\n",
    "arrests = arrests.reset_index().rename(columns = {'index': 'State'})\n",
    "\n",
    "groups = arrests.groupby('Predicted Cluster')['State'].apply(list)\n",
    "\n",
    "for cluster, group in enumerate(groups):\n",
    "    print(cluster, group)"
   ]
  },
  {
   "cell_type": "markdown",
   "id": "bfd0d5e1",
   "metadata": {},
   "source": [
    "### 10"
   ]
  },
  {
   "cell_type": "code",
   "execution_count": 11,
   "id": "433002fb",
   "metadata": {},
   "outputs": [],
   "source": [
    "# Create dataset\n",
    "X, y = make_blobs(n_samples=60, n_features=50, centers=3, cluster_std=5, random_state=1)"
   ]
  },
  {
   "cell_type": "code",
   "execution_count": 12,
   "id": "5804fb73",
   "metadata": {},
   "outputs": [],
   "source": [
    "# Perform PCA on dataset\n",
    "pca = PCA(n_components=2, random_state=1)\n",
    "X_pca = pca.fit_transform(X)"
   ]
  },
  {
   "cell_type": "code",
   "execution_count": 13,
   "id": "d899e3c6",
   "metadata": {},
   "outputs": [
    {
     "data": {
      "text/plain": [
       "Text(0, 0.5, 'Second principal component')"
      ]
     },
     "execution_count": 13,
     "metadata": {},
     "output_type": "execute_result"
    },
    {
     "data": {
      "image/png": "[encoded data removed]",
      "text/plain": [
       "<Figure size 432x288 with 1 Axes>"
      ]
     },
     "metadata": {
      "needs_background": "light"
     },
     "output_type": "display_data"
    }
   ],
   "source": [
    "# Visualize PCA\n",
    "plt.figure()\n",
    "colors = ['blue', 'red', 'green']\n",
    "\n",
    "for i,color in enumerate(colors):\n",
    "    plt.scatter(X_pca[y==i, 0], X_pca[y==i, 1], color=color)\n",
    "plt.title('Principal component score vectors')\n",
    "plt.xlabel('First principal component')\n",
    "plt.ylabel('Second principal component')"
   ]
  },
  {
   "cell_type": "code",
   "execution_count": 14,
   "id": "31eba2fa",
   "metadata": {},
   "outputs": [
    {
     "data": {
      "text/plain": [
       "array([0, 1, 2, 1, 1, 1, 0, 0, 0, 1, 1, 1, 0, 1, 2, 0, 2, 2, 0, 1, 0, 1,\n",
       "       2, 0, 0, 2, 2, 2, 0, 1, 2, 1, 0, 2, 1, 2, 2, 2, 2, 1, 2, 2, 0, 1,\n",
       "       1, 0, 0, 0, 1, 0, 1, 1, 2, 2, 0, 2, 0, 1, 2, 0])"
      ]
     },
     "execution_count": 14,
     "metadata": {},
     "output_type": "execute_result"
    }
   ],
   "source": [
    "y"
   ]
  },
  {
   "cell_type": "code",
   "execution_count": 15,
   "id": "14e57511",
   "metadata": {},
   "outputs": [
    {
     "data": {
      "text/plain": [
       "array([0, 2, 1, 2, 2, 2, 0, 0, 0, 2, 2, 2, 0, 2, 1, 0, 1, 1, 0, 2, 0, 2,\n",
       "       1, 0, 0, 1, 1, 1, 0, 2, 1, 2, 0, 1, 2, 1, 1, 1, 1, 2, 1, 1, 0, 2,\n",
       "       2, 0, 0, 0, 2, 0, 2, 2, 1, 1, 0, 1, 0, 2, 1, 0], dtype=int32)"
      ]
     },
     "execution_count": 15,
     "metadata": {},
     "output_type": "execute_result"
    }
   ],
   "source": [
    "# K-Means\n",
    "km = KMeans(n_clusters=3)\n",
    "km.fit(X)\n",
    "km.labels_"
   ]
  },
  {
   "cell_type": "code",
   "execution_count": 16,
   "id": "6f571b46",
   "metadata": {},
   "outputs": [
    {
     "data": {
      "text/plain": [
       "array([0, 0, 1, 0, 0, 0, 0, 0, 0, 0, 0, 0, 0, 0, 1, 0, 1, 1, 0, 0, 0, 0,\n",
       "       1, 0, 0, 1, 1, 1, 0, 0, 1, 0, 0, 1, 0, 1, 1, 1, 1, 0, 1, 1, 0, 0,\n",
       "       0, 0, 0, 0, 0, 0, 0, 0, 1, 1, 0, 1, 0, 0, 1, 0], dtype=int32)"
      ]
     },
     "execution_count": 16,
     "metadata": {},
     "output_type": "execute_result"
    }
   ],
   "source": [
    "# K - Means\n",
    "km = KMeans(n_clusters=2)\n",
    "km.fit(X)\n",
    "km.labels_"
   ]
  },
  {
   "cell_type": "code",
   "execution_count": 17,
   "id": "4f21edc1",
   "metadata": {},
   "outputs": [
    {
     "data": {
      "text/plain": [
       "array([0, 3, 1, 3, 3, 3, 0, 0, 0, 3, 2, 3, 0, 3, 1, 0, 1, 1, 0, 2, 0, 3,\n",
       "       1, 0, 0, 1, 1, 1, 0, 3, 1, 3, 0, 1, 3, 1, 1, 1, 1, 3, 1, 1, 0, 3,\n",
       "       3, 0, 0, 0, 3, 0, 3, 3, 1, 1, 0, 1, 0, 3, 1, 0], dtype=int32)"
      ]
     },
     "execution_count": 17,
     "metadata": {},
     "output_type": "execute_result"
    }
   ],
   "source": [
    "# K - Means\n",
    "km = KMeans(n_clusters=4)\n",
    "km.fit(X)\n",
    "km.labels_"
   ]
  },
  {
   "cell_type": "code",
   "execution_count": 18,
   "id": "a6d5dd15",
   "metadata": {},
   "outputs": [
    {
     "data": {
      "text/plain": [
       "array([0, 2, 1, 2, 2, 2, 0, 0, 0, 2, 2, 2, 0, 2, 1, 0, 1, 1, 0, 2, 0, 2,\n",
       "       1, 0, 0, 1, 1, 1, 0, 2, 1, 2, 0, 1, 2, 1, 1, 1, 1, 2, 1, 1, 0, 2,\n",
       "       2, 0, 0, 0, 2, 0, 2, 2, 1, 1, 0, 1, 0, 2, 1, 0], dtype=int32)"
      ]
     },
     "execution_count": 18,
     "metadata": {},
     "output_type": "execute_result"
    }
   ],
   "source": [
    "# K - Means\n",
    "km = KMeans(n_clusters=3)\n",
    "km.fit(X_pca)\n",
    "km.labels_"
   ]
  },
  {
   "cell_type": "code",
   "execution_count": 19,
   "id": "58b96004",
   "metadata": {},
   "outputs": [
    {
     "data": {
      "text/plain": [
       "array([1, 2, 0, 2, 2, 2, 1, 1, 1, 2, 2, 2, 1, 2, 0, 1, 0, 0, 1, 2, 1, 2,\n",
       "       0, 1, 1, 0, 0, 0, 1, 2, 0, 2, 1, 0, 2, 0, 0, 0, 0, 2, 0, 0, 1, 2,\n",
       "       2, 1, 1, 1, 2, 1, 2, 2, 0, 0, 1, 0, 1, 2, 0, 1], dtype=int32)"
      ]
     },
     "execution_count": 19,
     "metadata": {},
     "output_type": "execute_result"
    }
   ],
   "source": [
    "# K - Means on scaled data\n",
    "scaler = StandardScaler(with_mean=False)\n",
    "X_scaled = scaler.fit_transform(X)\n",
    "\n",
    "km = KMeans(n_clusters=3)\n",
    "km.fit(X_scaled)\n",
    "km.labels_"
   ]
  },
  {
   "cell_type": "markdown",
   "id": "74e09d39",
   "metadata": {},
   "source": [
    "### 11"
   ]
  },
  {
   "cell_type": "code",
   "execution_count": 20,
   "id": "166e3c7a",
   "metadata": {},
   "outputs": [
    {
     "data": {
      "text/html": [
       "<div>\n",
       "<style scoped>\n",
       "    .dataframe tbody tr th:only-of-type {\n",
       "        vertical-align: middle;\n",
       "    }\n",
       "\n",
       "    .dataframe tbody tr th {\n",
       "        vertical-align: top;\n",
       "    }\n",
       "\n",
       "    .dataframe thead th {\n",
       "        text-align: right;\n",
       "    }\n",
       "</style>\n",
       "<table border=\"1\" class=\"dataframe\">\n",
       "  <thead>\n",
       "    <tr style=\"text-align: right;\">\n",
       "      <th></th>\n",
       "      <th>0</th>\n",
       "      <th>1</th>\n",
       "      <th>2</th>\n",
       "      <th>3</th>\n",
       "      <th>4</th>\n",
       "      <th>5</th>\n",
       "      <th>6</th>\n",
       "      <th>7</th>\n",
       "      <th>8</th>\n",
       "      <th>9</th>\n",
       "      <th>...</th>\n",
       "      <th>30</th>\n",
       "      <th>31</th>\n",
       "      <th>32</th>\n",
       "      <th>33</th>\n",
       "      <th>34</th>\n",
       "      <th>35</th>\n",
       "      <th>36</th>\n",
       "      <th>37</th>\n",
       "      <th>38</th>\n",
       "      <th>39</th>\n",
       "    </tr>\n",
       "  </thead>\n",
       "  <tbody>\n",
       "    <tr>\n",
       "      <th>0</th>\n",
       "      <td>-0.961933</td>\n",
       "      <td>0.441803</td>\n",
       "      <td>-0.975005</td>\n",
       "      <td>1.417504</td>\n",
       "      <td>0.818815</td>\n",
       "      <td>0.316294</td>\n",
       "      <td>-0.024967</td>\n",
       "      <td>-0.063966</td>\n",
       "      <td>0.031497</td>\n",
       "      <td>-0.350311</td>\n",
       "      <td>...</td>\n",
       "      <td>-0.509591</td>\n",
       "      <td>-0.216725</td>\n",
       "      <td>-0.055506</td>\n",
       "      <td>-0.484449</td>\n",
       "      <td>-0.521581</td>\n",
       "      <td>1.949135</td>\n",
       "      <td>1.324335</td>\n",
       "      <td>0.468147</td>\n",
       "      <td>1.061100</td>\n",
       "      <td>1.655970</td>\n",
       "    </tr>\n",
       "    <tr>\n",
       "      <th>1</th>\n",
       "      <td>-0.292526</td>\n",
       "      <td>-1.139267</td>\n",
       "      <td>0.195837</td>\n",
       "      <td>-1.281121</td>\n",
       "      <td>-0.251439</td>\n",
       "      <td>2.511997</td>\n",
       "      <td>-0.922206</td>\n",
       "      <td>0.059543</td>\n",
       "      <td>-1.409645</td>\n",
       "      <td>-0.656712</td>\n",
       "      <td>...</td>\n",
       "      <td>1.700708</td>\n",
       "      <td>0.007290</td>\n",
       "      <td>0.099062</td>\n",
       "      <td>0.563853</td>\n",
       "      <td>-0.257275</td>\n",
       "      <td>-0.581781</td>\n",
       "      <td>-0.169887</td>\n",
       "      <td>-0.542304</td>\n",
       "      <td>0.312939</td>\n",
       "      <td>-1.284377</td>\n",
       "    </tr>\n",
       "    <tr>\n",
       "      <th>2</th>\n",
       "      <td>0.258788</td>\n",
       "      <td>-0.972845</td>\n",
       "      <td>0.588486</td>\n",
       "      <td>-0.800258</td>\n",
       "      <td>-1.820398</td>\n",
       "      <td>-2.058924</td>\n",
       "      <td>-0.064764</td>\n",
       "      <td>1.592124</td>\n",
       "      <td>-0.173117</td>\n",
       "      <td>-0.121087</td>\n",
       "      <td>...</td>\n",
       "      <td>-0.615472</td>\n",
       "      <td>0.009999</td>\n",
       "      <td>0.945810</td>\n",
       "      <td>-0.318521</td>\n",
       "      <td>-0.117889</td>\n",
       "      <td>0.621366</td>\n",
       "      <td>-0.070764</td>\n",
       "      <td>0.401682</td>\n",
       "      <td>-0.016227</td>\n",
       "      <td>-0.526553</td>\n",
       "    </tr>\n",
       "    <tr>\n",
       "      <th>3</th>\n",
       "      <td>-1.152132</td>\n",
       "      <td>-2.213168</td>\n",
       "      <td>-0.861525</td>\n",
       "      <td>0.630925</td>\n",
       "      <td>0.951772</td>\n",
       "      <td>-1.165724</td>\n",
       "      <td>-0.391559</td>\n",
       "      <td>1.063619</td>\n",
       "      <td>-0.350009</td>\n",
       "      <td>-1.489058</td>\n",
       "      <td>...</td>\n",
       "      <td>-0.284277</td>\n",
       "      <td>0.198946</td>\n",
       "      <td>-0.091833</td>\n",
       "      <td>0.349628</td>\n",
       "      <td>-0.298910</td>\n",
       "      <td>1.513696</td>\n",
       "      <td>0.671185</td>\n",
       "      <td>0.010855</td>\n",
       "      <td>-1.043689</td>\n",
       "      <td>1.625275</td>\n",
       "    </tr>\n",
       "    <tr>\n",
       "      <th>4</th>\n",
       "      <td>0.195783</td>\n",
       "      <td>0.593306</td>\n",
       "      <td>0.282992</td>\n",
       "      <td>0.247147</td>\n",
       "      <td>1.978668</td>\n",
       "      <td>-0.871018</td>\n",
       "      <td>-0.989715</td>\n",
       "      <td>-1.032253</td>\n",
       "      <td>-1.109654</td>\n",
       "      <td>-0.385142</td>\n",
       "      <td>...</td>\n",
       "      <td>-0.692998</td>\n",
       "      <td>-0.845707</td>\n",
       "      <td>-0.177497</td>\n",
       "      <td>-0.166491</td>\n",
       "      <td>1.483155</td>\n",
       "      <td>-1.687946</td>\n",
       "      <td>-0.141430</td>\n",
       "      <td>0.200778</td>\n",
       "      <td>-0.675942</td>\n",
       "      <td>2.220611</td>\n",
       "    </tr>\n",
       "  </tbody>\n",
       "</table>\n",
       "<p>5 rows × 40 columns</p>\n",
       "</div>"
      ],
      "text/plain": [
       "         0         1         2         3         4         5         6   \\\n",
       "0 -0.961933  0.441803 -0.975005  1.417504  0.818815  0.316294 -0.024967   \n",
       "1 -0.292526 -1.139267  0.195837 -1.281121 -0.251439  2.511997 -0.922206   \n",
       "2  0.258788 -0.972845  0.588486 -0.800258 -1.820398 -2.058924 -0.064764   \n",
       "3 -1.152132 -2.213168 -0.861525  0.630925  0.951772 -1.165724 -0.391559   \n",
       "4  0.195783  0.593306  0.282992  0.247147  1.978668 -0.871018 -0.989715   \n",
       "\n",
       "         7         8         9   ...        30        31        32        33  \\\n",
       "0 -0.063966  0.031497 -0.350311  ... -0.509591 -0.216725 -0.055506 -0.484449   \n",
       "1  0.059543 -1.409645 -0.656712  ...  1.700708  0.007290  0.099062  0.563853   \n",
       "2  1.592124 -0.173117 -0.121087  ... -0.615472  0.009999  0.945810 -0.318521   \n",
       "3  1.063619 -0.350009 -1.489058  ... -0.284277  0.198946 -0.091833  0.349628   \n",
       "4 -1.032253 -1.109654 -0.385142  ... -0.692998 -0.845707 -0.177497 -0.166491   \n",
       "\n",
       "         34        35        36        37        38        39  \n",
       "0 -0.521581  1.949135  1.324335  0.468147  1.061100  1.655970  \n",
       "1 -0.257275 -0.581781 -0.169887 -0.542304  0.312939 -1.284377  \n",
       "2 -0.117889  0.621366 -0.070764  0.401682 -0.016227 -0.526553  \n",
       "3 -0.298910  1.513696  0.671185  0.010855 -1.043689  1.625275  \n",
       "4  1.483155 -1.687946 -0.141430  0.200778 -0.675942  2.220611  \n",
       "\n",
       "[5 rows x 40 columns]"
      ]
     },
     "execution_count": 20,
     "metadata": {},
     "output_type": "execute_result"
    }
   ],
   "source": [
    "genes = pd.read_csv('../../data/Ch10Ex11.csv', header=None)\n",
    "genes.head()"
   ]
  },
  {
   "cell_type": "code",
   "execution_count": 21,
   "id": "ca7867ad",
   "metadata": {},
   "outputs": [
    {
     "data": {
      "text/html": [
       "<div>\n",
       "<style scoped>\n",
       "    .dataframe tbody tr th:only-of-type {\n",
       "        vertical-align: middle;\n",
       "    }\n",
       "\n",
       "    .dataframe tbody tr th {\n",
       "        vertical-align: top;\n",
       "    }\n",
       "\n",
       "    .dataframe thead th {\n",
       "        text-align: right;\n",
       "    }\n",
       "</style>\n",
       "<table border=\"1\" class=\"dataframe\">\n",
       "  <thead>\n",
       "    <tr style=\"text-align: right;\">\n",
       "      <th></th>\n",
       "      <th>0</th>\n",
       "      <th>1</th>\n",
       "      <th>2</th>\n",
       "      <th>3</th>\n",
       "      <th>4</th>\n",
       "      <th>5</th>\n",
       "      <th>6</th>\n",
       "      <th>7</th>\n",
       "      <th>8</th>\n",
       "      <th>9</th>\n",
       "      <th>...</th>\n",
       "      <th>30</th>\n",
       "      <th>31</th>\n",
       "      <th>32</th>\n",
       "      <th>33</th>\n",
       "      <th>34</th>\n",
       "      <th>35</th>\n",
       "      <th>36</th>\n",
       "      <th>37</th>\n",
       "      <th>38</th>\n",
       "      <th>39</th>\n",
       "    </tr>\n",
       "  </thead>\n",
       "  <tbody>\n",
       "    <tr>\n",
       "      <th>0</th>\n",
       "      <td>-0.179217</td>\n",
       "      <td>0.082312</td>\n",
       "      <td>-0.181652</td>\n",
       "      <td>0.264093</td>\n",
       "      <td>0.152552</td>\n",
       "      <td>0.058928</td>\n",
       "      <td>-0.004652</td>\n",
       "      <td>-0.011917</td>\n",
       "      <td>0.005868</td>\n",
       "      <td>-0.065266</td>\n",
       "      <td>...</td>\n",
       "      <td>-0.094941</td>\n",
       "      <td>-0.040378</td>\n",
       "      <td>-0.010341</td>\n",
       "      <td>-0.090257</td>\n",
       "      <td>-0.097175</td>\n",
       "      <td>0.363141</td>\n",
       "      <td>0.246735</td>\n",
       "      <td>0.087220</td>\n",
       "      <td>0.197692</td>\n",
       "      <td>0.308522</td>\n",
       "    </tr>\n",
       "    <tr>\n",
       "      <th>1</th>\n",
       "      <td>-0.049283</td>\n",
       "      <td>-0.191939</td>\n",
       "      <td>0.032994</td>\n",
       "      <td>-0.215838</td>\n",
       "      <td>-0.042361</td>\n",
       "      <td>0.423210</td>\n",
       "      <td>-0.155369</td>\n",
       "      <td>0.010032</td>\n",
       "      <td>-0.237491</td>\n",
       "      <td>-0.110640</td>\n",
       "      <td>...</td>\n",
       "      <td>0.286528</td>\n",
       "      <td>0.001228</td>\n",
       "      <td>0.016690</td>\n",
       "      <td>0.094996</td>\n",
       "      <td>-0.043345</td>\n",
       "      <td>-0.098016</td>\n",
       "      <td>-0.028622</td>\n",
       "      <td>-0.091365</td>\n",
       "      <td>0.052723</td>\n",
       "      <td>-0.216386</td>\n",
       "    </tr>\n",
       "    <tr>\n",
       "      <th>2</th>\n",
       "      <td>0.043760</td>\n",
       "      <td>-0.164504</td>\n",
       "      <td>0.099511</td>\n",
       "      <td>-0.135321</td>\n",
       "      <td>-0.307822</td>\n",
       "      <td>-0.348156</td>\n",
       "      <td>-0.010951</td>\n",
       "      <td>0.269222</td>\n",
       "      <td>-0.029273</td>\n",
       "      <td>-0.020475</td>\n",
       "      <td>...</td>\n",
       "      <td>-0.104074</td>\n",
       "      <td>0.001691</td>\n",
       "      <td>0.159933</td>\n",
       "      <td>-0.053861</td>\n",
       "      <td>-0.019935</td>\n",
       "      <td>0.105071</td>\n",
       "      <td>-0.011966</td>\n",
       "      <td>0.067923</td>\n",
       "      <td>-0.002744</td>\n",
       "      <td>-0.089038</td>\n",
       "    </tr>\n",
       "    <tr>\n",
       "      <th>3</th>\n",
       "      <td>-0.155611</td>\n",
       "      <td>-0.298918</td>\n",
       "      <td>-0.116360</td>\n",
       "      <td>0.085215</td>\n",
       "      <td>0.128550</td>\n",
       "      <td>-0.157447</td>\n",
       "      <td>-0.052885</td>\n",
       "      <td>0.143656</td>\n",
       "      <td>-0.047273</td>\n",
       "      <td>-0.201117</td>\n",
       "      <td>...</td>\n",
       "      <td>-0.038395</td>\n",
       "      <td>0.026870</td>\n",
       "      <td>-0.012403</td>\n",
       "      <td>0.047222</td>\n",
       "      <td>-0.040372</td>\n",
       "      <td>0.204445</td>\n",
       "      <td>0.090652</td>\n",
       "      <td>0.001466</td>\n",
       "      <td>-0.140964</td>\n",
       "      <td>0.219515</td>\n",
       "    </tr>\n",
       "    <tr>\n",
       "      <th>4</th>\n",
       "      <td>0.029868</td>\n",
       "      <td>0.090513</td>\n",
       "      <td>0.043172</td>\n",
       "      <td>0.037704</td>\n",
       "      <td>0.301859</td>\n",
       "      <td>-0.132880</td>\n",
       "      <td>-0.150988</td>\n",
       "      <td>-0.157477</td>\n",
       "      <td>-0.169285</td>\n",
       "      <td>-0.058756</td>\n",
       "      <td>...</td>\n",
       "      <td>-0.105722</td>\n",
       "      <td>-0.129018</td>\n",
       "      <td>-0.027078</td>\n",
       "      <td>-0.025399</td>\n",
       "      <td>0.226265</td>\n",
       "      <td>-0.257508</td>\n",
       "      <td>-0.021576</td>\n",
       "      <td>0.030630</td>\n",
       "      <td>-0.103120</td>\n",
       "      <td>0.338769</td>\n",
       "    </tr>\n",
       "  </tbody>\n",
       "</table>\n",
       "<p>5 rows × 40 columns</p>\n",
       "</div>"
      ],
      "text/plain": [
       "         0         1         2         3         4         5         6   \\\n",
       "0 -0.179217  0.082312 -0.181652  0.264093  0.152552  0.058928 -0.004652   \n",
       "1 -0.049283 -0.191939  0.032994 -0.215838 -0.042361  0.423210 -0.155369   \n",
       "2  0.043760 -0.164504  0.099511 -0.135321 -0.307822 -0.348156 -0.010951   \n",
       "3 -0.155611 -0.298918 -0.116360  0.085215  0.128550 -0.157447 -0.052885   \n",
       "4  0.029868  0.090513  0.043172  0.037704  0.301859 -0.132880 -0.150988   \n",
       "\n",
       "         7         8         9   ...        30        31        32        33  \\\n",
       "0 -0.011917  0.005868 -0.065266  ... -0.094941 -0.040378 -0.010341 -0.090257   \n",
       "1  0.010032 -0.237491 -0.110640  ...  0.286528  0.001228  0.016690  0.094996   \n",
       "2  0.269222 -0.029273 -0.020475  ... -0.104074  0.001691  0.159933 -0.053861   \n",
       "3  0.143656 -0.047273 -0.201117  ... -0.038395  0.026870 -0.012403  0.047222   \n",
       "4 -0.157477 -0.169285 -0.058756  ... -0.105722 -0.129018 -0.027078 -0.025399   \n",
       "\n",
       "         34        35        36        37        38        39  \n",
       "0 -0.097175  0.363141  0.246735  0.087220  0.197692  0.308522  \n",
       "1 -0.043345 -0.098016 -0.028622 -0.091365  0.052723 -0.216386  \n",
       "2 -0.019935  0.105071 -0.011966  0.067923 -0.002744 -0.089038  \n",
       "3 -0.040372  0.204445  0.090652  0.001466 -0.140964  0.219515  \n",
       "4  0.226265 -0.257508 -0.021576  0.030630 -0.103120  0.338769  \n",
       "\n",
       "[5 rows x 40 columns]"
      ]
     },
     "execution_count": 21,
     "metadata": {},
     "output_type": "execute_result"
    }
   ],
   "source": [
    "# Normalize data\n",
    "genes_normalized = normalize(genes)\n",
    "genes_normalized = pd.DataFrame(genes_normalized, columns = genes.columns)\n",
    "genes_normalized.head()"
   ]
  },
  {
   "cell_type": "code",
   "execution_count": 22,
   "id": "989f6e6e",
   "metadata": {},
   "outputs": [
    {
     "data": {
      "image/png": "[encoded data removed]",
      "text/plain": [
       "<Figure size 720x504 with 1 Axes>"
      ]
     },
     "metadata": {
      "needs_background": "light"
     },
     "output_type": "display_data"
    }
   ],
   "source": [
    "# Create dendogram\n",
    "plt.figure(figsize=(10, 7))  \n",
    "plt.title(\"Dendrograms\")  \n",
    "dend = shc.dendrogram(shc.linkage(genes_normalized, method='ward'))"
   ]
  },
  {
   "cell_type": "code",
   "execution_count": 23,
   "id": "fac3de18",
   "metadata": {},
   "outputs": [],
   "source": [
    "# Apply heirarchial clustering\n",
    "cluster = AgglomerativeClustering(n_clusters=2, affinity='euclidean', linkage='ward')  \n",
    "cluster_preds = cluster.fit_predict(genes_normalized)"
   ]
  },
  {
   "cell_type": "code",
   "execution_count": 24,
   "id": "12cab182",
   "metadata": {},
   "outputs": [
    {
     "data": {
      "text/plain": [
       "<matplotlib.collections.PathCollection at 0x7f95fbe12a10>"
      ]
     },
     "execution_count": 24,
     "metadata": {},
     "output_type": "execute_result"
    },
    {
     "data": {
      "image/png": "[encoded data removed]",
      "text/plain": [
       "<Figure size 720x504 with 1 Axes>"
      ]
     },
     "metadata": {
      "needs_background": "light"
     },
     "output_type": "display_data"
    }
   ],
   "source": [
    "# Plot data with clusters\n",
    "genes_normalized_small = genes_normalized.iloc[:,0:2]\n",
    "genes_normalized_small.columns = ['Tissue 1', 'Tissue 2']\n",
    "\n",
    "plt.figure(figsize=(10, 7))  \n",
    "plt.scatter(genes_normalized_small['Tissue 1'], genes_normalized_small['Tissue 2'], c=cluster.labels_) "
   ]
  },
  {
   "cell_type": "code",
   "execution_count": null,
   "id": "6b78c532",
   "metadata": {},
   "outputs": [],
   "source": []
  }
 ],
 "metadata": {
  "kernelspec": {
   "display_name": "Python 3 (ipykernel)",
   "language": "python",
   "name": "python3"
  },
  "language_info": {
   "codemirror_mode": {
    "name": "ipython",
    "version": 3
   },
   "file_extension": ".py",
   "mimetype": "text/x-python",
   "name": "python",
   "nbconvert_exporter": "python",
   "pygments_lexer": "ipython3",
   "version": "3.7.7"
  }
 },
 "nbformat": 4,
 "nbformat_minor": 5
}
