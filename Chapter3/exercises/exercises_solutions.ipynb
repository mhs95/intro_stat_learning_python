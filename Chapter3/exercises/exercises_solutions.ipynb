{
 "cells": [
  {
   "cell_type": "markdown",
   "id": "302c4133",
   "metadata": {},
   "source": [
    "# Applied Exercises"
   ]
  },
  {
   "cell_type": "code",
   "execution_count": null,
   "id": "ddb1c1e3",
   "metadata": {},
   "outputs": [],
   "source": [
    "import os\n",
    "import pandas as pd\n",
    "import matplotlib.pyplot as plt\n",
    "import numpy as np \n",
    "import random\n",
    "import seaborn as sns\n",
    "import statsmodels.api as sm \n",
    "import statsmodels.formula.api as smf\n",
    "import warnings\n",
    "\n",
    "from sklearn.model_selection import train_test_split\n",
    "from sklearn.neighbors import KNeighborsRegressor\n",
    "from sklearn.linear_model import LinearRegression\n",
    "\n",
    "%matplotlib notebook\n",
    "warnings.simplefilter(action='ignore', category=FutureWarning)"
   ]
  },
  {
   "cell_type": "markdown",
   "id": "f63f3d64",
   "metadata": {},
   "source": [
    "### 8"
   ]
  },
  {
   "cell_type": "code",
   "execution_count": null,
   "id": "edb72f05",
   "metadata": {},
   "outputs": [],
   "source": [
    "# Load dataset\n",
    "auto = pd.read_csv('../../data/Auto.csv')\n",
    "auto.head()"
   ]
  },
  {
   "cell_type": "code",
   "execution_count": null,
   "id": "cd990757",
   "metadata": {},
   "outputs": [],
   "source": [
    "# Fit linear model using statsmodels as it can produce summaries\n",
    "X = auto['horsepower']\n",
    "y = auto['mpg']\n",
    "X_cons = sm.add_constant(X)\n",
    "results = sm.OLS(y,X_cons).fit()\n",
    "results.summary()"
   ]
  },
  {
   "cell_type": "code",
   "execution_count": null,
   "id": "abff14f9",
   "metadata": {},
   "outputs": [],
   "source": [
    "# Get prediction for horsepower of 98 as well as confidence and prediction intervals \n",
    "X_pred = pd.DataFrame(np.array([[1,98]]))\n",
    "preds = results.predict(X_pred)\n",
    "\n",
    "preds_info = results.get_prediction(X_pred)\n",
    "preds_info.summary_frame(alpha=0.05)"
   ]
  },
  {
   "cell_type": "code",
   "execution_count": null,
   "id": "df9c995e",
   "metadata": {},
   "outputs": [],
   "source": [
    "# Plot mpg, horsepower with least squares regression line\n",
    "fig, ax = plt.subplots(1,1)\n",
    "ax = sns.regplot(X,y,scatter_kws={'color':'lightblue'},line_kws={'color':'firebrick'}, ci=None)\n",
    "ax.set_title('MPG vs Horsepower')\n",
    "ax.set_xlabel('Horsepower')\n",
    "ax.set_ylabel('MPG')\n",
    "ax.grid(True)"
   ]
  },
  {
   "cell_type": "code",
   "execution_count": null,
   "id": "08d18a67",
   "metadata": {},
   "outputs": [],
   "source": [
    "## Residual plots for the model\n",
    "resids = results.resid\n",
    "yhat = results.fittedvalues\n",
    "\n",
    "fig, ax = plt.subplots(1,1)\n",
    "ax = sns.regplot(yhat,resids,lowess=True, line_kws={'color':'firebrick', 'lw':1},\n",
    "            scatter_kws={'color': 'lightblue', 'alpha':0.5})\n",
    "ax.hlines(y=0,xmin=np.min(yhat),xmax=np.max(yhat),color='firebrick',linestyle='--',lw=3)\n",
    "ax.set_title('Residual plot of model')\n",
    "ax.set_xlabel('Fitted values')\n",
    "ax.set_ylabel('Residuals')\n",
    "ax.grid(True)"
   ]
  },
  {
   "cell_type": "markdown",
   "id": "0e1c8150",
   "metadata": {},
   "source": [
    "### 9"
   ]
  },
  {
   "cell_type": "code",
   "execution_count": null,
   "id": "72d3744f",
   "metadata": {},
   "outputs": [],
   "source": [
    "# Produce scatter plot matrix\n",
    "sns.pairplot(auto) "
   ]
  },
  {
   "cell_type": "code",
   "execution_count": null,
   "id": "414a5b58",
   "metadata": {},
   "outputs": [],
   "source": [
    "# Matrix of correlations\n",
    "auto_trim = auto.drop('name', axis=1)\n",
    "auto_trim.corr()"
   ]
  },
  {
   "cell_type": "code",
   "execution_count": null,
   "id": "318da9b0",
   "metadata": {},
   "outputs": [],
   "source": [
    "# Multiple linear regression\n",
    "y = auto_trim['mpg']\n",
    "X = auto_trim.drop('mpg', axis = 1)\n",
    "X_cons = sm.add_constant(X)\n",
    "multiple_lm = sm.OLS(y,X_cons).fit()\n",
    "multiple_lm.summary()"
   ]
  },
  {
   "cell_type": "code",
   "execution_count": null,
   "id": "70027992",
   "metadata": {},
   "outputs": [],
   "source": [
    "# Residual plots of regression fit\n",
    "resids = multiple_lm.resid\n",
    "yhat = multiple_lm.fittedvalues\n",
    "\n",
    "fig, ax = plt.subplots(1,1)\n",
    "ax = sns.regplot(yhat,resids,lowess=True, line_kws={'color':'firebrick', 'lw':1},\n",
    "            scatter_kws={'color': 'lightblue', 'alpha':0.5})\n",
    "ax.hlines(y=0,xmin=np.min(yhat),xmax=np.max(yhat),color='firebrick',linestyle='--',lw=3)\n",
    "ax.set_title('Residual plot of model')\n",
    "ax.set_xlabel('Fitted values')\n",
    "ax.set_ylabel('Residuals')\n",
    "ax.grid(True)"
   ]
  },
  {
   "cell_type": "code",
   "execution_count": null,
   "id": "0ad7e1f1",
   "metadata": {},
   "outputs": [],
   "source": [
    "# Leverage plot\n",
    "sm.graphics.influence_plot(multiple_lm)"
   ]
  },
  {
   "cell_type": "code",
   "execution_count": null,
   "id": "835b704e",
   "metadata": {},
   "outputs": [],
   "source": [
    "# Model with interaction terms\n",
    "import statsmodels.formula.api as smf\n",
    "inter_model = smf.ols(formula = 'mpg ~ cylinders*weight', data = auto_trim).fit()\n",
    "inter_model.summary()"
   ]
  },
  {
   "cell_type": "code",
   "execution_count": null,
   "id": "8484a4e9",
   "metadata": {},
   "outputs": [],
   "source": [
    "# Trying different transformations - Polynomial degree 2 \n",
    "from sklearn.preprocessing import PolynomialFeatures\n",
    "poly = PolynomialFeatures(degree=2)\n",
    "X_2 = poly.fit_transform(X)\n",
    "X2_cons = sm.add_constant(X_2)\n",
    "\n",
    "sq_model = sm.OLS(y, X2_cons).fit()\n",
    "sq_model.summary()"
   ]
  },
  {
   "cell_type": "code",
   "execution_count": null,
   "id": "d2a193a4",
   "metadata": {},
   "outputs": [],
   "source": [
    "# Residual plots of regression fit\n",
    "resids = sq_model.resid\n",
    "yhat = sq_model.fittedvalues\n",
    "\n",
    "fig, ax = plt.subplots(1,1)\n",
    "ax = sns.regplot(yhat,resids,lowess=True, line_kws={'color':'firebrick', 'lw':1},\n",
    "            scatter_kws={'color': 'lightblue', 'alpha':0.5})\n",
    "ax.hlines(y=0,xmin=np.min(yhat),xmax=np.max(yhat),color='firebrick',linestyle='--',lw=3)\n",
    "ax.set_title('Residual plot of model')\n",
    "ax.set_xlabel('Fitted values')\n",
    "ax.set_ylabel('Residuals')\n",
    "ax.grid(True)"
   ]
  },
  {
   "cell_type": "code",
   "execution_count": null,
   "id": "9a41a2f5",
   "metadata": {},
   "outputs": [],
   "source": [
    "# Log transform each variable \n",
    "X_log = X.copy()\n",
    "for col in X_log.columns:\n",
    "    X_log[col] = np.log(X_log[col])"
   ]
  },
  {
   "cell_type": "code",
   "execution_count": null,
   "id": "fbc6f8ef",
   "metadata": {},
   "outputs": [],
   "source": [
    "# Fit log model\n",
    "Xlog_cons = sm.add_constant(X_log)\n",
    "\n",
    "log_model = sm.OLS(y, Xlog_cons).fit()\n",
    "log_model.summary()"
   ]
  },
  {
   "cell_type": "code",
   "execution_count": null,
   "id": "070e7698",
   "metadata": {},
   "outputs": [],
   "source": [
    "# Plot log model residuals \n",
    "resids = log_model.resid\n",
    "yhat = log_model.fittedvalues\n",
    "\n",
    "fig, ax = plt.subplots(1,1)\n",
    "ax = sns.regplot(yhat,resids,lowess=True, line_kws={'color':'firebrick', 'lw':1},\n",
    "            scatter_kws={'color': 'lightblue', 'alpha':0.5})\n",
    "ax.hlines(y=0,xmin=np.min(yhat),xmax=np.max(yhat),color='firebrick',linestyle='--',lw=3)\n",
    "ax.set_title('Residual plot of model')\n",
    "ax.set_xlabel('Fitted values')\n",
    "ax.set_ylabel('Residuals')\n",
    "ax.grid(True)"
   ]
  },
  {
   "cell_type": "markdown",
   "id": "8244067d",
   "metadata": {},
   "source": [
    "### 10"
   ]
  },
  {
   "cell_type": "code",
   "execution_count": null,
   "id": "2493c069",
   "metadata": {},
   "outputs": [],
   "source": [
    "# Read data\n",
    "cars = pd.read_csv(f'../../data/Carseats.csv')\n",
    "cars.head()"
   ]
  },
  {
   "cell_type": "code",
   "execution_count": null,
   "id": "0d0c1e78",
   "metadata": {},
   "outputs": [],
   "source": [
    "# Fit multiple regression model\n",
    "X = cars.loc[:,['Price','Urban','US']]\n",
    "X = pd.get_dummies(X, columns = ['Urban','US'])\n",
    "y = cars['Sales']\n",
    "\n",
    "X_cons = sm.add_constant(X)\n",
    "multiple_lm = sm.OLS(y, X_cons).fit()\n",
    "multiple_lm.summary()"
   ]
  },
  {
   "cell_type": "code",
   "execution_count": null,
   "id": "87ead938",
   "metadata": {},
   "outputs": [],
   "source": [
    "multiple_lm = smf.ols(formula='Sales ~ Price + Urban + US', data = cars).fit()\n",
    "multiple_lm.summary()"
   ]
  },
  {
   "cell_type": "code",
   "execution_count": null,
   "id": "2afbaaef",
   "metadata": {},
   "outputs": [],
   "source": [
    "multiple_lm = smf.ols(formula='Sales ~ Price + US', data = cars).fit()\n",
    "multiple_lm.summary()"
   ]
  },
  {
   "cell_type": "code",
   "execution_count": null,
   "id": "8ad92b69",
   "metadata": {},
   "outputs": [],
   "source": [
    "sm.graphics.influence_plot(multiple_lm)"
   ]
  },
  {
   "cell_type": "markdown",
   "id": "42982974",
   "metadata": {},
   "source": [
    "### 11"
   ]
  },
  {
   "cell_type": "code",
   "execution_count": null,
   "id": "800855e2",
   "metadata": {},
   "outputs": [],
   "source": [
    "# Create dataset\n",
    "random.seed(10)\n",
    "x = np.random.normal(loc=0,scale=1,size=100)\n",
    "y = 2*x + np.random.normal(loc=0,scale=1,size=100)"
   ]
  },
  {
   "cell_type": "code",
   "execution_count": null,
   "id": "0df5cb5c",
   "metadata": {},
   "outputs": [],
   "source": [
    "# Simple linear regression of y onto x without intercept\n",
    "model = sm.OLS(y,x).fit()\n",
    "model.summary()"
   ]
  },
  {
   "cell_type": "code",
   "execution_count": null,
   "id": "88abec4d",
   "metadata": {},
   "outputs": [],
   "source": [
    "# Simple linear regression of x onto y without intercept\n",
    "model = sm.OLS(x,y).fit()\n",
    "model.summary()"
   ]
  },
  {
   "cell_type": "code",
   "execution_count": null,
   "id": "6adbff03",
   "metadata": {},
   "outputs": [],
   "source": [
    "# Simple linear regression of y onto x with intercept\n",
    "x_cons = sm.add_constant(x)\n",
    "model = sm.OLS(y,x_cons).fit()\n",
    "model.summary()"
   ]
  },
  {
   "cell_type": "code",
   "execution_count": null,
   "id": "79c01fd4",
   "metadata": {},
   "outputs": [],
   "source": [
    "# Simple linear regression of y onto x with intercept\n",
    "y_cons = sm.add_constant(y)\n",
    "model = sm.OLS(x,y_cons).fit()\n",
    "model.summary()"
   ]
  },
  {
   "cell_type": "markdown",
   "id": "bfa19a8c",
   "metadata": {},
   "source": [
    "### 13"
   ]
  },
  {
   "cell_type": "code",
   "execution_count": null,
   "id": "a3e9a2bf",
   "metadata": {},
   "outputs": [],
   "source": [
    "# Create dataset and plot\n",
    "random.seed(10)\n",
    "x = np.random.normal(loc=0,scale=1,size=100)\n",
    "eps = np.random.normal(loc=0,scale=0.5,size=100)\n",
    "y = 0.5*(x) + eps -1\n",
    "\n",
    "plt.scatter(x,y)"
   ]
  },
  {
   "cell_type": "code",
   "execution_count": null,
   "id": "8d51b6bc",
   "metadata": {},
   "outputs": [],
   "source": [
    "# Fit least squares linear model \n",
    "x_cons = sm.add_constant(x)\n",
    "model = sm.OLS(y,x_cons).fit()\n",
    "model.summary()\n",
    "yhat = model.fittedvalues\n",
    "yhat"
   ]
  },
  {
   "cell_type": "code",
   "execution_count": null,
   "id": "33293a54",
   "metadata": {},
   "outputs": [],
   "source": [
    "# Plot model\n",
    "fig, ax = plt.subplots(1,1)\n",
    "sns.regplot(x,y,scatter_kws={'color':'lightblue'},line_kws={'color':'firebrick'}, ci=None)\n",
    "#sns.regplot(x,yhat,scatter_kws = {'color' : 'black'},line_kws={'color':'magenta'})\n",
    "plt.plot(x,yhat, color = 'magenta')\n",
    "ax.set_title('X vs Y')\n",
    "ax.set_xlabel('X')\n",
    "ax.set_ylabel('Y')\n",
    "ax.grid(True)"
   ]
  },
  {
   "cell_type": "markdown",
   "id": "25663de9",
   "metadata": {},
   "source": [
    "### 14"
   ]
  },
  {
   "cell_type": "code",
   "execution_count": null,
   "id": "4bf8a243",
   "metadata": {},
   "outputs": [],
   "source": [
    "# Create dataset\n",
    "random.seed(10)\n",
    "x1 = np.random.uniform(size=100)\n",
    "x2 = 0.5*x1 + (np.random.normal(loc=0,scale=1,size=100)/10)\n",
    "y = 2 + 2*x1 + 0.3*x2 + np.random.normal(loc=0,scale=1,size=100)\n",
    "data = pd.DataFrame({'x1': x1, 'x2': x2, 'y':y})\n",
    "data.head()"
   ]
  },
  {
   "cell_type": "code",
   "execution_count": null,
   "id": "a9bced49",
   "metadata": {},
   "outputs": [],
   "source": [
    "print(np.corrcoef(x1,x2))\n",
    "fig,ax = plt.subplots(1,1)\n",
    "plt.scatter(x1,x2)\n",
    "ax.set_xlabel('X1')\n",
    "ax.set_ylabel('X2')"
   ]
  },
  {
   "cell_type": "code",
   "execution_count": null,
   "id": "9d94976e",
   "metadata": {},
   "outputs": [],
   "source": [
    "# Multiple linear regression with X1 and X2 \n",
    "X = data[['x1','x2']]\n",
    "y = data['y']\n",
    "X_cons = sm.add_constant(X)\n",
    "model = sm.OLS(y, X_cons).fit()\n",
    "model.summary()"
   ]
  },
  {
   "cell_type": "code",
   "execution_count": null,
   "id": "e56f8252",
   "metadata": {},
   "outputs": [],
   "source": [
    "# Linear regression with just X1\n",
    "x1_cons = X_cons.drop('x2', axis =1)\n",
    "model = sm.OLS(y,x1_cons).fit()\n",
    "model.summary()"
   ]
  },
  {
   "cell_type": "code",
   "execution_count": null,
   "id": "619c5cc4",
   "metadata": {},
   "outputs": [],
   "source": [
    "# Linear regression with just X2\n",
    "x2_cons = X_cons.drop('x1', axis =1)\n",
    "model = sm.OLS(y,x2_cons).fit()\n",
    "model.summary()"
   ]
  },
  {
   "cell_type": "markdown",
   "id": "ad1b20fd",
   "metadata": {},
   "source": [
    "### 15"
   ]
  },
  {
   "cell_type": "code",
   "execution_count": null,
   "id": "3ab3560b",
   "metadata": {},
   "outputs": [],
   "source": [
    "# Read data\n",
    "boston = pd.read_csv(f'../../data/Boston.csv')\n",
    "boston.head()"
   ]
  },
  {
   "cell_type": "code",
   "execution_count": null,
   "id": "5648dbba",
   "metadata": {},
   "outputs": [],
   "source": [
    "y = boston['crim']\n",
    "X = boston.drop('crim', axis = 1)"
   ]
  },
  {
   "cell_type": "code",
   "execution_count": null,
   "id": "2422031a",
   "metadata": {},
   "outputs": [],
   "source": [
    "# Create graphing function\n",
    "def plot_reg(X,y,label):\n",
    "    \n",
    "    fig, ax = plt.subplots(1,1)\n",
    "    ax = sns.regplot(X,y,scatter_kws={'color':'lightblue'},line_kws={'color':'firebrick'}, ci=None)\n",
    "    ax.set_title(f'Sales vs {label}')\n",
    "    ax.set_xlabel(f'{label}')\n",
    "    ax.set_ylabel('Sales')\n",
    "    ax.grid(True)\n",
    "    \n",
    "    return fig"
   ]
  },
  {
   "cell_type": "code",
   "execution_count": null,
   "id": "6c83655e",
   "metadata": {},
   "outputs": [],
   "source": [
    "# Loop throug columns, create scatter plot and fit linear model, storing results in a dictionary\n",
    "param_dict_single = {}\n",
    "for col in X.columns:\n",
    "    subset = X[col]\n",
    "    plot_reg(subset,y,col)\n",
    "    subset_cons = sm.add_constant(subset)\n",
    "    model = sm.OLS(y, subset_cons).fit()\n",
    "    param_dict_single[col] = model.params[col]\n",
    "    print(model.summary())\n",
    "    "
   ]
  },
  {
   "cell_type": "code",
   "execution_count": null,
   "id": "ca8652e2",
   "metadata": {},
   "outputs": [],
   "source": [
    "# Fit multiple linear model, storing results in a dictionary\n",
    "param_dict_multiple = {}\n",
    "X_cons = sm.add_constant(X)\n",
    "multiple_lm = sm.OLS(y, X_cons).fit()\n",
    "multiple_lm.summary()\n",
    "\n",
    "for param in X:\n",
    "    if param == 'const':\n",
    "        pass\n",
    "    else:\n",
    "        param_dict_multiple[param] = multiple_lm.params[param]"
   ]
  },
  {
   "cell_type": "code",
   "execution_count": null,
   "id": "bef82dce",
   "metadata": {},
   "outputs": [],
   "source": [
    "# Create dataset with parameter, single reg coefficient, multiple reg coefficient\n",
    "param_data_multiple = pd.DataFrame.from_dict(param_dict_multiple, orient='index', columns = ['Multiple'])\n",
    "param_data_single = pd.DataFrame.from_dict(param_dict_single, orient='index', columns = ['Single'])\n",
    "param_data = pd.merge(param_data_single, param_data_multiple, left_index=True, right_index=True)\n",
    "param_data.head()"
   ]
  },
  {
   "cell_type": "code",
   "execution_count": null,
   "id": "b044fcc6",
   "metadata": {},
   "outputs": [],
   "source": [
    "# Plot single reg coefficients vs multiple reg coefficients \n",
    "fig, ax = plt.subplots(1,1)\n",
    "plt.scatter(param_data['Single'], param_data['Multiple'])\n",
    "ax.set_xlabel('Coefficient from Single Regression')\n",
    "ax.set_ylabel('Coefficient from Multiple Regression')\n",
    "ax.grid(True)\n",
    "\n",
    "for i,txt in enumerate(param_data.index):\n",
    "    ax.annotate(txt, (param_data.Single[i], param_data.Multiple[i]), size=7)"
   ]
  },
  {
   "cell_type": "code",
   "execution_count": null,
   "id": "45caf7ed",
   "metadata": {},
   "outputs": [],
   "source": [
    "# Run multiple linear regression with X,X^2,X^3\n",
    "for col in X.columns:\n",
    "    subset = pd.DataFrame(X[col])\n",
    "    subset[col+'_2'] = subset[col] ** 2\n",
    "    subset[col+'_3'] = subset[col] ** 3\n",
    "    #plot_reg(subset,y,col)\n",
    "    subset_cons = sm.add_constant(subset)\n",
    "    model = sm.OLS(y, subset_cons).fit()\n",
    "    print(model.summary())"
   ]
  }
 ],
 "metadata": {
  "kernelspec": {
   "display_name": "Python 3",
   "language": "python",
   "name": "python3"
  },
  "language_info": {
   "codemirror_mode": {
    "name": "ipython",
    "version": 3
   },
   "file_extension": ".py",
   "mimetype": "text/x-python",
   "name": "python",
   "nbconvert_exporter": "python",
   "pygments_lexer": "ipython3",
   "version": "3.7.7"
  }
 },
 "nbformat": 4,
 "nbformat_minor": 5
}
