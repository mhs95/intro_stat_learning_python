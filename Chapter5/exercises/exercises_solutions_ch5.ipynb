{
 "cells": [
  {
   "cell_type": "code",
   "execution_count": 71,
   "id": "b9ae8799",
   "metadata": {},
   "outputs": [],
   "source": [
    "import pandas as pd\n",
    "import numpy as np\n",
    "import matplotlib.pyplot as plt\n",
    "import seaborn as sns\n",
    "import warnings\n",
    "\n",
    "from sklearn.linear_model import LogisticRegression\n",
    "from sklearn.linear_model import LinearRegression\n",
    "from sklearn.discriminant_analysis import LinearDiscriminantAnalysis\n",
    "from sklearn.discriminant_analysis import QuadraticDiscriminantAnalysis\n",
    "from sklearn.metrics import confusion_matrix, classification_report, precision_score, accuracy_score\n",
    "from sklearn.model_selection import train_test_split\n",
    "from sklearn import preprocessing\n",
    "from sklearn import neighbors\n",
    "\n",
    "import statsmodels.api as sm\n",
    "import statsmodels.formula.api as smf\n",
    "\n",
    "%matplotlib inline\n",
    "plt.style.use('seaborn-white')\n",
    "warnings.simplefilter(action='ignore', category=FutureWarning)"
   ]
  },
  {
   "cell_type": "markdown",
   "id": "701129c5",
   "metadata": {},
   "source": [
    "### 5"
   ]
  },
  {
   "cell_type": "code",
   "execution_count": 2,
   "id": "56fad329",
   "metadata": {},
   "outputs": [
    {
     "data": {
      "text/html": [
       "<div>\n",
       "<style scoped>\n",
       "    .dataframe tbody tr th:only-of-type {\n",
       "        vertical-align: middle;\n",
       "    }\n",
       "\n",
       "    .dataframe tbody tr th {\n",
       "        vertical-align: top;\n",
       "    }\n",
       "\n",
       "    .dataframe thead th {\n",
       "        text-align: right;\n",
       "    }\n",
       "</style>\n",
       "<table border=\"1\" class=\"dataframe\">\n",
       "  <thead>\n",
       "    <tr style=\"text-align: right;\">\n",
       "      <th></th>\n",
       "      <th>default</th>\n",
       "      <th>student</th>\n",
       "      <th>balance</th>\n",
       "      <th>income</th>\n",
       "    </tr>\n",
       "  </thead>\n",
       "  <tbody>\n",
       "    <tr>\n",
       "      <th>0</th>\n",
       "      <td>No</td>\n",
       "      <td>No</td>\n",
       "      <td>729.526495</td>\n",
       "      <td>44361.625074</td>\n",
       "    </tr>\n",
       "    <tr>\n",
       "      <th>1</th>\n",
       "      <td>No</td>\n",
       "      <td>Yes</td>\n",
       "      <td>817.180407</td>\n",
       "      <td>12106.134700</td>\n",
       "    </tr>\n",
       "    <tr>\n",
       "      <th>2</th>\n",
       "      <td>No</td>\n",
       "      <td>No</td>\n",
       "      <td>1073.549164</td>\n",
       "      <td>31767.138947</td>\n",
       "    </tr>\n",
       "    <tr>\n",
       "      <th>3</th>\n",
       "      <td>No</td>\n",
       "      <td>No</td>\n",
       "      <td>529.250605</td>\n",
       "      <td>35704.493935</td>\n",
       "    </tr>\n",
       "    <tr>\n",
       "      <th>4</th>\n",
       "      <td>No</td>\n",
       "      <td>No</td>\n",
       "      <td>785.655883</td>\n",
       "      <td>38463.495879</td>\n",
       "    </tr>\n",
       "  </tbody>\n",
       "</table>\n",
       "</div>"
      ],
      "text/plain": [
       "  default student      balance        income\n",
       "0      No      No   729.526495  44361.625074\n",
       "1      No     Yes   817.180407  12106.134700\n",
       "2      No      No  1073.549164  31767.138947\n",
       "3      No      No   529.250605  35704.493935\n",
       "4      No      No   785.655883  38463.495879"
      ]
     },
     "execution_count": 2,
     "metadata": {},
     "output_type": "execute_result"
    }
   ],
   "source": [
    "# Load dataset\n",
    "default = pd.read_csv('../../data/Default.csv')\n",
    "default.head()"
   ]
  },
  {
   "cell_type": "code",
   "execution_count": 3,
   "id": "3ee98fc1",
   "metadata": {},
   "outputs": [],
   "source": [
    "# Create X and y matrices\n",
    "X = default[['income', 'balance']]\n",
    "y = default['default']"
   ]
  },
  {
   "cell_type": "code",
   "execution_count": 4,
   "id": "8e4600cb",
   "metadata": {},
   "outputs": [
    {
     "name": "stdout",
     "output_type": "stream",
     "text": [
      "Logit Test Error: 0.03359999999999996\n"
     ]
    }
   ],
   "source": [
    "# Fit logistic regression\n",
    "clf = LogisticRegression(solver = 'liblinear')\n",
    "model = clf.fit(X, y)\n",
    "y_pred = model.predict(X)\n",
    "\n",
    "print(f'Logit Test Error: {1-accuracy_score(y,y_pred)}')"
   ]
  },
  {
   "cell_type": "code",
   "execution_count": 5,
   "id": "fd834d8e",
   "metadata": {},
   "outputs": [
    {
     "name": "stdout",
     "output_type": "stream",
     "text": [
      "Test Error: 0.038799999999999946\n"
     ]
    }
   ],
   "source": [
    "# Repeat using validation set approach\n",
    "\n",
    "# Split data\n",
    "X_train, X_test, y_train, y_test = train_test_split(X, y, random_state = 0)\n",
    "\n",
    "clf = LogisticRegression(solver = 'liblinear')\n",
    "model = clf.fit(X_train, y_train)\n",
    "y_pred = model.predict(X_test)\n",
    "\n",
    "print(f'Test Error: {1-accuracy_score(y_test,y_pred)}')"
   ]
  },
  {
   "cell_type": "code",
   "execution_count": 6,
   "id": "67694fbd",
   "metadata": {},
   "outputs": [
    {
     "name": "stdout",
     "output_type": "stream",
     "text": [
      "accuracy of each fold : [0.9646070785842832, 0.9672967296729673, 0.966996699669967]\n",
      "Avg accuracy : 0.9663001693090726\n"
     ]
    }
   ],
   "source": [
    "# Repeat using K fold cross validation \n",
    "from sklearn.model_selection import KFold \n",
    "\n",
    "k=3\n",
    "kf =  KFold(n_splits=k, random_state = None)\n",
    "model = LogisticRegression(solver = 'liblinear')\n",
    "\n",
    "acc_score = []\n",
    "\n",
    "for train_index, test_index in kf.split(X):\n",
    "    X_train, X_test = X.iloc[train_index,:], X.iloc[test_index,:]\n",
    "    y_train, y_test = y[train_index], y[test_index]\n",
    "    \n",
    "    model.fit(X_train, y_train)\n",
    "    pred_values = model.predict(X_test)\n",
    "    \n",
    "    acc = accuracy_score(pred_values, y_test)\n",
    "    acc_score.append(acc)\n",
    "    \n",
    "avg_acc_score = sum(acc_score)/k\n",
    "\n",
    "print(f'accuracy of each fold : {acc_score}')\n",
    "print(f'Avg accuracy : {avg_acc_score}')"
   ]
  },
  {
   "cell_type": "code",
   "execution_count": 7,
   "id": "0dad323d",
   "metadata": {},
   "outputs": [],
   "source": [
    "# Now repeat while adding new dummy for student\n",
    "default['student_dummy'] = [1 if val == 'Yes' else 0 for val in default.student]\n",
    "\n",
    "# Create X and y matrices\n",
    "X = default[['income', 'balance', 'student_dummy']]\n",
    "y = default['default']"
   ]
  },
  {
   "cell_type": "code",
   "execution_count": 8,
   "id": "fe4fbd76",
   "metadata": {},
   "outputs": [
    {
     "name": "stdout",
     "output_type": "stream",
     "text": [
      "accuracy of each fold : [0.9646070785842832, 0.9672967296729673, 0.966996699669967]\n",
      "Avg accuracy : 0.9663001693090726\n"
     ]
    }
   ],
   "source": [
    "# Run 3-fold cross validation\n",
    "k=3\n",
    "kf =  KFold(n_splits=k, random_state = None)\n",
    "model = LogisticRegression(solver = 'liblinear')\n",
    "\n",
    "acc_score = []\n",
    "\n",
    "for train_index, test_index in kf.split(X):\n",
    "    X_train, X_test = X.iloc[train_index,:], X.iloc[test_index,:]\n",
    "    y_train, y_test = y[train_index], y[test_index]\n",
    "    \n",
    "    model.fit(X_train, y_train)\n",
    "    pred_values = model.predict(X_test)\n",
    "    \n",
    "    acc = accuracy_score(pred_values, y_test)\n",
    "    acc_score.append(acc)\n",
    "    \n",
    "avg_acc_score = sum(acc_score)/k\n",
    "\n",
    "print(f'accuracy of each fold : {acc_score}')\n",
    "print(f'Avg accuracy : {avg_acc_score}')"
   ]
  },
  {
   "cell_type": "markdown",
   "id": "6f0fd0ff",
   "metadata": {},
   "source": [
    "### 7"
   ]
  },
  {
   "cell_type": "code",
   "execution_count": 9,
   "id": "b2cc7ef1",
   "metadata": {},
   "outputs": [
    {
     "data": {
      "text/html": [
       "<div>\n",
       "<style scoped>\n",
       "    .dataframe tbody tr th:only-of-type {\n",
       "        vertical-align: middle;\n",
       "    }\n",
       "\n",
       "    .dataframe tbody tr th {\n",
       "        vertical-align: top;\n",
       "    }\n",
       "\n",
       "    .dataframe thead th {\n",
       "        text-align: right;\n",
       "    }\n",
       "</style>\n",
       "<table border=\"1\" class=\"dataframe\">\n",
       "  <thead>\n",
       "    <tr style=\"text-align: right;\">\n",
       "      <th></th>\n",
       "      <th>Year</th>\n",
       "      <th>Lag1</th>\n",
       "      <th>Lag2</th>\n",
       "      <th>Lag3</th>\n",
       "      <th>Lag4</th>\n",
       "      <th>Lag5</th>\n",
       "      <th>Volume</th>\n",
       "      <th>Today</th>\n",
       "      <th>Direction</th>\n",
       "      <th>Direction_dummy</th>\n",
       "    </tr>\n",
       "  </thead>\n",
       "  <tbody>\n",
       "    <tr>\n",
       "      <th>0</th>\n",
       "      <td>1990</td>\n",
       "      <td>0.816</td>\n",
       "      <td>1.572</td>\n",
       "      <td>-3.936</td>\n",
       "      <td>-0.229</td>\n",
       "      <td>-3.484</td>\n",
       "      <td>0.154976</td>\n",
       "      <td>-0.270</td>\n",
       "      <td>Down</td>\n",
       "      <td>0</td>\n",
       "    </tr>\n",
       "    <tr>\n",
       "      <th>1</th>\n",
       "      <td>1990</td>\n",
       "      <td>-0.270</td>\n",
       "      <td>0.816</td>\n",
       "      <td>1.572</td>\n",
       "      <td>-3.936</td>\n",
       "      <td>-0.229</td>\n",
       "      <td>0.148574</td>\n",
       "      <td>-2.576</td>\n",
       "      <td>Down</td>\n",
       "      <td>0</td>\n",
       "    </tr>\n",
       "    <tr>\n",
       "      <th>2</th>\n",
       "      <td>1990</td>\n",
       "      <td>-2.576</td>\n",
       "      <td>-0.270</td>\n",
       "      <td>0.816</td>\n",
       "      <td>1.572</td>\n",
       "      <td>-3.936</td>\n",
       "      <td>0.159837</td>\n",
       "      <td>3.514</td>\n",
       "      <td>Up</td>\n",
       "      <td>1</td>\n",
       "    </tr>\n",
       "    <tr>\n",
       "      <th>3</th>\n",
       "      <td>1990</td>\n",
       "      <td>3.514</td>\n",
       "      <td>-2.576</td>\n",
       "      <td>-0.270</td>\n",
       "      <td>0.816</td>\n",
       "      <td>1.572</td>\n",
       "      <td>0.161630</td>\n",
       "      <td>0.712</td>\n",
       "      <td>Up</td>\n",
       "      <td>1</td>\n",
       "    </tr>\n",
       "    <tr>\n",
       "      <th>4</th>\n",
       "      <td>1990</td>\n",
       "      <td>0.712</td>\n",
       "      <td>3.514</td>\n",
       "      <td>-2.576</td>\n",
       "      <td>-0.270</td>\n",
       "      <td>0.816</td>\n",
       "      <td>0.153728</td>\n",
       "      <td>1.178</td>\n",
       "      <td>Up</td>\n",
       "      <td>1</td>\n",
       "    </tr>\n",
       "  </tbody>\n",
       "</table>\n",
       "</div>"
      ],
      "text/plain": [
       "   Year   Lag1   Lag2   Lag3   Lag4   Lag5    Volume  Today Direction  \\\n",
       "0  1990  0.816  1.572 -3.936 -0.229 -3.484  0.154976 -0.270      Down   \n",
       "1  1990 -0.270  0.816  1.572 -3.936 -0.229  0.148574 -2.576      Down   \n",
       "2  1990 -2.576 -0.270  0.816  1.572 -3.936  0.159837  3.514        Up   \n",
       "3  1990  3.514 -2.576 -0.270  0.816  1.572  0.161630  0.712        Up   \n",
       "4  1990  0.712  3.514 -2.576 -0.270  0.816  0.153728  1.178        Up   \n",
       "\n",
       "   Direction_dummy  \n",
       "0                0  \n",
       "1                0  \n",
       "2                1  \n",
       "3                1  \n",
       "4                1  "
      ]
     },
     "execution_count": 9,
     "metadata": {},
     "output_type": "execute_result"
    }
   ],
   "source": [
    "# Load dataset\n",
    "weekly = pd.read_csv('../../data/Weekly.csv')\n",
    "\n",
    "weekly['Direction_dummy'] = [1 if val == \"Up\" else 0 for val in weekly.Direction]\n",
    "weekly.head()"
   ]
  },
  {
   "cell_type": "code",
   "execution_count": 10,
   "id": "4ea03cbe",
   "metadata": {},
   "outputs": [],
   "source": [
    "# Fit logistic regression \n",
    "X = weekly[['Lag1', 'Lag2']]\n",
    "y = weekly['Direction_dummy']\n",
    "\n",
    "clf = LogisticRegression(solver = 'liblinear')\n",
    "model = clf.fit(X, y)"
   ]
  },
  {
   "cell_type": "code",
   "execution_count": 50,
   "id": "592a64eb",
   "metadata": {},
   "outputs": [
    {
     "data": {
      "text/plain": [
       "1"
      ]
     },
     "execution_count": 50,
     "metadata": {},
     "output_type": "execute_result"
    }
   ],
   "source": [
    "# Fit logistic regression leaving first observation out\n",
    "i = 1\n",
    "X_train = X.drop(X.index[i])\n",
    "y_train = y.drop(y.index[i])\n",
    "\n",
    "X_test = np.array(X.iloc[i,:])\n",
    "X_test = X_test.reshape(1,-1)\n",
    "\n",
    "y_test = np.array(y[i])\n",
    "\n",
    "model  = clf.fit(X_train, y_train)\n",
    "pred = model.predict(X_test)\n",
    "\n",
    "if pred != y_test:\n",
    "    error = 1\n",
    "else:\n",
    "    error = 0\n",
    "error"
   ]
  },
  {
   "cell_type": "code",
   "execution_count": 54,
   "id": "5ef51520",
   "metadata": {},
   "outputs": [
    {
     "data": {
      "text/plain": [
       "0.44995408631772266"
      ]
     },
     "execution_count": 54,
     "metadata": {},
     "output_type": "execute_result"
    }
   ],
   "source": [
    "# For loop to run the above logistic regression using leave one out cross-val\n",
    "errors = []\n",
    "\n",
    "for i,row in X.iterrows():\n",
    "    X_train = X.drop(X.index[i])\n",
    "    y_train = y.drop(y.index[i])\n",
    "\n",
    "    X_test = np.array(X.iloc[i,:])\n",
    "    X_test = X_test.reshape(1,-1)\n",
    "\n",
    "    y_test = np.array(y[i])\n",
    "\n",
    "    model  = clf.fit(X_train, y_train)\n",
    "    pred = model.predict(X_test)\n",
    "    \n",
    "    if pred != y_test:\n",
    "        error = 1\n",
    "    else:\n",
    "        error = 0\n",
    "    \n",
    "    errors.append(error)\n",
    "    \n",
    "np.mean(errors)"
   ]
  },
  {
   "cell_type": "markdown",
   "id": "7c2a6d36",
   "metadata": {},
   "source": [
    "### 8 "
   ]
  },
  {
   "cell_type": "code",
   "execution_count": 89,
   "id": "bdb436a4",
   "metadata": {},
   "outputs": [
    {
     "data": {
      "text/plain": [
       "Text(0, 0.5, 'Y')"
      ]
     },
     "execution_count": 89,
     "metadata": {},
     "output_type": "execute_result"
    },
    {
     "data": {
      "image/png": "[encoded data removed]",
      "text/plain": [
       "<Figure size 432x288 with 1 Axes>"
      ]
     },
     "metadata": {},
     "output_type": "display_data"
    }
   ],
   "source": [
    "import random\n",
    "\n",
    "# Create dataset\n",
    "random.seed(1)\n",
    "x = np.random.normal(loc=0,scale=1,size=100)\n",
    "y = (x-2) * (x**2) + np.random.normal(loc=0,scale=1,size=100)\n",
    "\n",
    "# Plot data\n",
    "fig,ax = plt.subplots(1,1)\n",
    "plt.scatter(x,y, color = 'magenta')\n",
    "ax.set_title('X vs Y')\n",
    "ax.set_xlabel('X')\n",
    "ax.set_ylabel('Y')"
   ]
  },
  {
   "cell_type": "code",
   "execution_count": 90,
   "id": "e58ad4fe",
   "metadata": {},
   "outputs": [],
   "source": [
    "from sklearn.model_selection import LeaveOneOut\n",
    "from sklearn.metrics import mean_squared_error\n",
    "\n",
    "data = pd.DataFrame(data = {'X': x, 'y': y})\n",
    "data['X2'] = x**2\n",
    "data['X3'] = x**3\n",
    "data['X4'] = x**4\n",
    "\n",
    "loo = LeaveOneOut()"
   ]
  },
  {
   "cell_type": "code",
   "execution_count": 92,
   "id": "0e482403",
   "metadata": {},
   "outputs": [
    {
     "data": {
      "text/plain": [
       "35.15775382605807"
      ]
     },
     "execution_count": 92,
     "metadata": {},
     "output_type": "execute_result"
    }
   ],
   "source": [
    "# Model 1: y ~ X\n",
    "random.seed(10)\n",
    "X = data['X']\n",
    "y = data['y']\n",
    "\n",
    "errors = []\n",
    "for train_index, test_index in loo.split(data):\n",
    "    \n",
    "    X_train, X_test = np.array(X[train_index]), np.array(X[test_index])\n",
    "    y_train, y_test = np.array(y[train_index]), np.array(y[test_index])\n",
    "    \n",
    "    X_test = X_test.reshape(1,-1)\n",
    "    y_test = y_test.reshape(1,-1)\n",
    "    \n",
    "    X_train = X_train.reshape(-1,1)\n",
    "    y_train = y_train.reshape(-1,1)\n",
    "    \n",
    "    #print(X_train.shape, X_test.shape, y_train.shape, y_test.shape)\n",
    "    \n",
    "    lm = LinearRegression()\n",
    "    model = lm.fit(X_train, y_train)\n",
    "    pred = model.predict(X_test)\n",
    "    error = mean_squared_error(y_test, pred)   \n",
    "    \n",
    "    errors.append(error)    \n",
    "    \n",
    "np.mean(errors)"
   ]
  },
  {
   "cell_type": "code",
   "execution_count": 96,
   "id": "a0a4f9c9",
   "metadata": {},
   "outputs": [
    {
     "data": {
      "text/plain": [
       "12.827869503377446"
      ]
     },
     "execution_count": 96,
     "metadata": {},
     "output_type": "execute_result"
    }
   ],
   "source": [
    "# Model 2: y ~ X + X^2\n",
    "X = data[['X', 'X2']]\n",
    "y = data['y']\n",
    "\n",
    "errors = []\n",
    "for train_index, test_index in loo.split(data):\n",
    "    \n",
    "    X_train, X_test = np.array(X.iloc[train_index,:]), np.array(X.iloc[test_index,:])\n",
    "    y_train, y_test = np.array(y[train_index]), np.array(y[test_index])\n",
    "    \n",
    "    X_test = X_test.reshape(1,-1)\n",
    "    y_test = y_test.reshape(1,-1)\n",
    "    \n",
    "    #X_train = X_train.reshape(-1,1)\n",
    "    #y_train = y_train.reshape(-1,1)\n",
    "    \n",
    "    lm = LinearRegression()\n",
    "    model = lm.fit(X_train, y_train)\n",
    "    pred = model.predict(X_test)\n",
    "    error = mean_squared_error(y_test, pred)   \n",
    "    \n",
    "    errors.append(error)    \n",
    "    \n",
    "np.mean(errors)"
   ]
  },
  {
   "cell_type": "code",
   "execution_count": 97,
   "id": "91c7e2ec",
   "metadata": {},
   "outputs": [
    {
     "data": {
      "text/plain": [
       "0.9919319858622389"
      ]
     },
     "execution_count": 97,
     "metadata": {},
     "output_type": "execute_result"
    }
   ],
   "source": [
    "# Model 3: y ~ X + X^2 + X^3\n",
    "X = data[['X', 'X2', 'X3']]\n",
    "y = data['y']\n",
    "\n",
    "errors = []\n",
    "for train_index, test_index in loo.split(data):\n",
    "    \n",
    "    X_train, X_test = np.array(X.iloc[train_index,:]), np.array(X.iloc[test_index,:])\n",
    "    y_train, y_test = np.array(y[train_index]), np.array(y[test_index])\n",
    "    \n",
    "    X_test = X_test.reshape(1,-1)\n",
    "    y_test = y_test.reshape(1,-1)\n",
    "    \n",
    "    #X_train = X_train.reshape(-1,1)\n",
    "    #y_train = y_train.reshape(-1,1)\n",
    "    \n",
    "    lm = LinearRegression()\n",
    "    model = lm.fit(X_train, y_train)\n",
    "    pred = model.predict(X_test)\n",
    "    error = mean_squared_error(y_test, pred)   \n",
    "    \n",
    "    errors.append(error)    \n",
    "    \n",
    "np.mean(errors)"
   ]
  },
  {
   "cell_type": "code",
   "execution_count": 98,
   "id": "3727224e",
   "metadata": {},
   "outputs": [
    {
     "data": {
      "text/plain": [
       "0.9845255476486239"
      ]
     },
     "execution_count": 98,
     "metadata": {},
     "output_type": "execute_result"
    }
   ],
   "source": [
    "# Model 2: y ~ X + X^2 + X^3 + X^4\n",
    "X = data[['X', 'X2', 'X3', 'X4']]\n",
    "y = data['y']\n",
    "\n",
    "errors = []\n",
    "for train_index, test_index in loo.split(data):\n",
    "    \n",
    "    X_train, X_test = np.array(X.iloc[train_index,:]), np.array(X.iloc[test_index,:])\n",
    "    y_train, y_test = np.array(y[train_index]), np.array(y[test_index])\n",
    "    \n",
    "    X_test = X_test.reshape(1,-1)\n",
    "    y_test = y_test.reshape(1,-1)\n",
    "    \n",
    "    #X_train = X_train.reshape(-1,1)\n",
    "    #y_train = y_train.reshape(-1,1)\n",
    "    \n",
    "    lm = LinearRegression()\n",
    "    model = lm.fit(X_train, y_train)\n",
    "    pred = model.predict(X_test)\n",
    "    error = mean_squared_error(y_test, pred)   \n",
    "    \n",
    "    errors.append(error)    \n",
    "    \n",
    "np.mean(errors)"
   ]
  },
  {
   "cell_type": "code",
   "execution_count": null,
   "id": "061537fe",
   "metadata": {},
   "outputs": [],
   "source": []
  }
 ],
 "metadata": {
  "kernelspec": {
   "display_name": "Python 3 (ipykernel)",
   "language": "python",
   "name": "python3"
  },
  "language_info": {
   "codemirror_mode": {
    "name": "ipython",
    "version": 3
   },
   "file_extension": ".py",
   "mimetype": "text/x-python",
   "name": "python",
   "nbconvert_exporter": "python",
   "pygments_lexer": "ipython3",
   "version": "3.7.7"
  }
 },
 "nbformat": 4,
 "nbformat_minor": 5
}
