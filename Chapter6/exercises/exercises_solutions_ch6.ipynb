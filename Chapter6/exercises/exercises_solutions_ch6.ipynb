{
 "cells": [
  {
   "cell_type": "code",
   "execution_count": 2,
   "id": "2832c8cc",
   "metadata": {},
   "outputs": [],
   "source": [
    "import pandas as pd\n",
    "import numpy as np\n",
    "import matplotlib.pyplot as plt\n",
    "import seaborn as sns\n",
    "import warnings\n",
    "\n",
    "from sklearn.preprocessing import scale \n",
    "from sklearn import model_selection\n",
    "from sklearn.model_selection import train_test_split\n",
    "from sklearn.linear_model import LinearRegression, Ridge, RidgeCV, Lasso, LassoCV\n",
    "from sklearn.decomposition import PCA\n",
    "from sklearn.cross_decomposition import PLSRegression\n",
    "from sklearn.model_selection import KFold, cross_val_score\n",
    "from sklearn.metrics import mean_squared_error\n",
    "\n",
    "%matplotlib inline\n",
    "plt.style.use('seaborn-white')\n",
    "warnings.simplefilter(action='ignore', category=FutureWarning)"
   ]
  },
  {
   "cell_type": "markdown",
   "id": "1694dac5",
   "metadata": {},
   "source": [
    "### 9"
   ]
  },
  {
   "cell_type": "code",
   "execution_count": 3,
   "id": "35989ae4",
   "metadata": {},
   "outputs": [
    {
     "data": {
      "text/html": [
       "<div>\n",
       "<style scoped>\n",
       "    .dataframe tbody tr th:only-of-type {\n",
       "        vertical-align: middle;\n",
       "    }\n",
       "\n",
       "    .dataframe tbody tr th {\n",
       "        vertical-align: top;\n",
       "    }\n",
       "\n",
       "    .dataframe thead th {\n",
       "        text-align: right;\n",
       "    }\n",
       "</style>\n",
       "<table border=\"1\" class=\"dataframe\">\n",
       "  <thead>\n",
       "    <tr style=\"text-align: right;\">\n",
       "      <th></th>\n",
       "      <th>Unnamed: 0</th>\n",
       "      <th>Private</th>\n",
       "      <th>Apps</th>\n",
       "      <th>Accept</th>\n",
       "      <th>Enroll</th>\n",
       "      <th>Top10perc</th>\n",
       "      <th>Top25perc</th>\n",
       "      <th>F.Undergrad</th>\n",
       "      <th>P.Undergrad</th>\n",
       "      <th>Outstate</th>\n",
       "      <th>Room.Board</th>\n",
       "      <th>Books</th>\n",
       "      <th>Personal</th>\n",
       "      <th>PhD</th>\n",
       "      <th>Terminal</th>\n",
       "      <th>S.F.Ratio</th>\n",
       "      <th>perc.alumni</th>\n",
       "      <th>Expend</th>\n",
       "      <th>Grad.Rate</th>\n",
       "    </tr>\n",
       "  </thead>\n",
       "  <tbody>\n",
       "    <tr>\n",
       "      <th>0</th>\n",
       "      <td>Abilene Christian University</td>\n",
       "      <td>Yes</td>\n",
       "      <td>1660</td>\n",
       "      <td>1232</td>\n",
       "      <td>721</td>\n",
       "      <td>23</td>\n",
       "      <td>52</td>\n",
       "      <td>2885</td>\n",
       "      <td>537</td>\n",
       "      <td>7440</td>\n",
       "      <td>3300</td>\n",
       "      <td>450</td>\n",
       "      <td>2200</td>\n",
       "      <td>70</td>\n",
       "      <td>78</td>\n",
       "      <td>18.1</td>\n",
       "      <td>12</td>\n",
       "      <td>7041</td>\n",
       "      <td>60</td>\n",
       "    </tr>\n",
       "    <tr>\n",
       "      <th>1</th>\n",
       "      <td>Adelphi University</td>\n",
       "      <td>Yes</td>\n",
       "      <td>2186</td>\n",
       "      <td>1924</td>\n",
       "      <td>512</td>\n",
       "      <td>16</td>\n",
       "      <td>29</td>\n",
       "      <td>2683</td>\n",
       "      <td>1227</td>\n",
       "      <td>12280</td>\n",
       "      <td>6450</td>\n",
       "      <td>750</td>\n",
       "      <td>1500</td>\n",
       "      <td>29</td>\n",
       "      <td>30</td>\n",
       "      <td>12.2</td>\n",
       "      <td>16</td>\n",
       "      <td>10527</td>\n",
       "      <td>56</td>\n",
       "    </tr>\n",
       "    <tr>\n",
       "      <th>2</th>\n",
       "      <td>Adrian College</td>\n",
       "      <td>Yes</td>\n",
       "      <td>1428</td>\n",
       "      <td>1097</td>\n",
       "      <td>336</td>\n",
       "      <td>22</td>\n",
       "      <td>50</td>\n",
       "      <td>1036</td>\n",
       "      <td>99</td>\n",
       "      <td>11250</td>\n",
       "      <td>3750</td>\n",
       "      <td>400</td>\n",
       "      <td>1165</td>\n",
       "      <td>53</td>\n",
       "      <td>66</td>\n",
       "      <td>12.9</td>\n",
       "      <td>30</td>\n",
       "      <td>8735</td>\n",
       "      <td>54</td>\n",
       "    </tr>\n",
       "    <tr>\n",
       "      <th>3</th>\n",
       "      <td>Agnes Scott College</td>\n",
       "      <td>Yes</td>\n",
       "      <td>417</td>\n",
       "      <td>349</td>\n",
       "      <td>137</td>\n",
       "      <td>60</td>\n",
       "      <td>89</td>\n",
       "      <td>510</td>\n",
       "      <td>63</td>\n",
       "      <td>12960</td>\n",
       "      <td>5450</td>\n",
       "      <td>450</td>\n",
       "      <td>875</td>\n",
       "      <td>92</td>\n",
       "      <td>97</td>\n",
       "      <td>7.7</td>\n",
       "      <td>37</td>\n",
       "      <td>19016</td>\n",
       "      <td>59</td>\n",
       "    </tr>\n",
       "    <tr>\n",
       "      <th>4</th>\n",
       "      <td>Alaska Pacific University</td>\n",
       "      <td>Yes</td>\n",
       "      <td>193</td>\n",
       "      <td>146</td>\n",
       "      <td>55</td>\n",
       "      <td>16</td>\n",
       "      <td>44</td>\n",
       "      <td>249</td>\n",
       "      <td>869</td>\n",
       "      <td>7560</td>\n",
       "      <td>4120</td>\n",
       "      <td>800</td>\n",
       "      <td>1500</td>\n",
       "      <td>76</td>\n",
       "      <td>72</td>\n",
       "      <td>11.9</td>\n",
       "      <td>2</td>\n",
       "      <td>10922</td>\n",
       "      <td>15</td>\n",
       "    </tr>\n",
       "  </tbody>\n",
       "</table>\n",
       "</div>"
      ],
      "text/plain": [
       "                     Unnamed: 0 Private  Apps  Accept  Enroll  Top10perc  \\\n",
       "0  Abilene Christian University     Yes  1660    1232     721         23   \n",
       "1            Adelphi University     Yes  2186    1924     512         16   \n",
       "2                Adrian College     Yes  1428    1097     336         22   \n",
       "3           Agnes Scott College     Yes   417     349     137         60   \n",
       "4     Alaska Pacific University     Yes   193     146      55         16   \n",
       "\n",
       "   Top25perc  F.Undergrad  P.Undergrad  Outstate  Room.Board  Books  Personal  \\\n",
       "0         52         2885          537      7440        3300    450      2200   \n",
       "1         29         2683         1227     12280        6450    750      1500   \n",
       "2         50         1036           99     11250        3750    400      1165   \n",
       "3         89          510           63     12960        5450    450       875   \n",
       "4         44          249          869      7560        4120    800      1500   \n",
       "\n",
       "   PhD  Terminal  S.F.Ratio  perc.alumni  Expend  Grad.Rate  \n",
       "0   70        78       18.1           12    7041         60  \n",
       "1   29        30       12.2           16   10527         56  \n",
       "2   53        66       12.9           30    8735         54  \n",
       "3   92        97        7.7           37   19016         59  \n",
       "4   76        72       11.9            2   10922         15  "
      ]
     },
     "execution_count": 3,
     "metadata": {},
     "output_type": "execute_result"
    }
   ],
   "source": [
    "# Load dataset\n",
    "college = pd.read_csv('../../data/College.csv')\n",
    "college.head()"
   ]
  },
  {
   "cell_type": "code",
   "execution_count": 4,
   "id": "aef3c2fb",
   "metadata": {},
   "outputs": [],
   "source": [
    "# Clean dataset and split into test/training\n",
    "college = college.iloc[:,1:] # Drop 'Unnamed' column\n",
    "college = pd.get_dummies(college) # Convert categorical variables to binary\n",
    "\n",
    "y = college['Apps']\n",
    "X = college.drop('Apps', axis=1)\n",
    "\n",
    "X_train,X_test,y_train,y_test = train_test_split(X,y,random_state=0)"
   ]
  },
  {
   "cell_type": "code",
   "execution_count": 5,
   "id": "7c5da7ed",
   "metadata": {},
   "outputs": [
    {
     "name": "stdout",
     "output_type": "stream",
     "text": [
      "Mean Squared Error from Linear Regression: 1022430.0889255474\n"
     ]
    }
   ],
   "source": [
    "# Fit linear model using least squares\n",
    "lm_reg = LinearRegression()\n",
    "lm_model = lm_reg.fit(X_train,y_train)\n",
    "lm_preds = lm_model.predict(X_test)\n",
    "lm_score = mean_squared_error(y_test, lm_preds)\n",
    "print(f'Mean Squared Error from Linear Regression: {lm_score}')"
   ]
  },
  {
   "cell_type": "code",
   "execution_count": 6,
   "id": "d7c7863c",
   "metadata": {},
   "outputs": [
    {
     "name": "stdout",
     "output_type": "stream",
     "text": [
      "Mean Squared Error from Ridge Regression: 1020512.03988358\n"
     ]
    }
   ],
   "source": [
    "# Fit ridge regression using cross-val to select lambda\n",
    "alphas = [0.01,0.1,1.0,10.0]\n",
    "ridge_reg = RidgeCV(alphas = alphas, scoring = 'neg_mean_squared_error', cv =5)\n",
    "ridge_model_cv = ridge_reg.fit(X_train,y_train)\n",
    "ridge_model = Ridge(alpha = ridge_model_cv.alpha_).fit(X_train,y_train)\n",
    "ridge_preds = ridge_model.predict(X_test)\n",
    "ridge_score = mean_squared_error(y_test, ridge_preds)\n",
    "print(f'Mean Squared Error from Ridge Regression: {ridge_score}')"
   ]
  },
  {
   "cell_type": "code",
   "execution_count": 7,
   "id": "7674a0fc",
   "metadata": {},
   "outputs": [
    {
     "name": "stdout",
     "output_type": "stream",
     "text": [
      "Mean Squared Error from Lasso Regression: 1018742.2107344208\n"
     ]
    },
    {
     "data": {
      "text/plain": [
       "Accept           1.626053\n",
       "Enroll          -1.039070\n",
       "Top10perc       56.991507\n",
       "Top25perc      -17.267190\n",
       "F.Undergrad      0.076080\n",
       "P.Undergrad      0.055430\n",
       "Outstate        -0.082422\n",
       "Room.Board       0.171550\n",
       "Books            0.006365\n",
       "Personal        -0.012855\n",
       "PhD            -10.563513\n",
       "Terminal        -2.434830\n",
       "S.F.Ratio        4.560026\n",
       "perc.alumni      0.210824\n",
       "Expend           0.048030\n",
       "Grad.Rate        8.090713\n",
       "Private_No     431.070880\n",
       "Private_Yes     -0.000000\n",
       "dtype: float64"
      ]
     },
     "execution_count": 7,
     "metadata": {},
     "output_type": "execute_result"
    }
   ],
   "source": [
    "# Fit Lasso regression using cross-val to select lambda\n",
    "lasso_reg = LassoCV(alphas=alphas, cv=10, max_iter=10000)\n",
    "lasso_model_cv = lasso_reg.fit(X_train,y_train)\n",
    "lasso_model = Lasso(alpha = lasso_model_cv.alpha_).fit(X_train,y_train)\n",
    "lasso_preds = lasso_model.predict(X_test)\n",
    "lasso_score = mean_squared_error(y_test, lasso_preds)\n",
    "print(f'Mean Squared Error from Lasso Regression: {lasso_score}')\n",
    "\n",
    "# Report number of non-zero coefficients\n",
    "pd.Series(lasso_model.coef_, index = X_train.columns) # 1 zero coefficient, 17 non-zero"
   ]
  },
  {
   "cell_type": "code",
   "execution_count": 29,
   "id": "766ea1bb",
   "metadata": {},
   "outputs": [
    {
     "data": {
      "image/png": "[encoded data removed]",
      "text/plain": [
       "<Figure size 432x288 with 1 Axes>"
      ]
     },
     "metadata": {},
     "output_type": "display_data"
    }
   ],
   "source": [
    "# Fit a PCR model with M chosen by cross-validation\n",
    "pca = PCA()\n",
    "X_train_reduced = pca.fit_transform(scale(X_train))\n",
    "\n",
    "n = len(X_train_reduced)\n",
    "\n",
    "# 10-fold CV, with shuffle\n",
    "kf_10 = model_selection.KFold( n_splits=10, shuffle=True, random_state=1)\n",
    "\n",
    "regr = LinearRegression()\n",
    "mse = []\n",
    "\n",
    "# Calculate MSE with only the intercept (no principal components in regression)\n",
    "score = -1*model_selection.cross_val_score(regr, np.ones((n,1)), y_train.ravel(), cv=kf_10, scoring='neg_mean_squared_error').mean()    \n",
    "mse.append(score)\n",
    "\n",
    "# Calculate MSE using CV for the 19 principle components, adding one component at the time.\n",
    "for i in np.arange(1, 20):\n",
    "    score = -1*model_selection.cross_val_score(regr, X_train_reduced[:,:i], y_train.ravel(), cv=kf_10, scoring='neg_mean_squared_error').mean()\n",
    "    mse.append(score)\n",
    "\n",
    "plt.plot(np.array(mse), '-v')\n",
    "plt.xlabel('Number of principal components in regression')\n",
    "plt.ylabel('MSE')\n",
    "plt.title('Applications')\n",
    "plt.xlim(xmin=-1);"
   ]
  },
  {
   "cell_type": "code",
   "execution_count": 31,
   "id": "1025bb30",
   "metadata": {},
   "outputs": [
    {
     "name": "stdout",
     "output_type": "stream",
     "text": [
      "Mean Squared Error from PCA Regression: 1903417.1863542295\n"
     ]
    }
   ],
   "source": [
    "X_test_reduced = pca.transform(scale(X_test))[:,:17]\n",
    "\n",
    "# Train regression model on training data \n",
    "regr = LinearRegression()\n",
    "regr.fit(X_train_reduced[:,:17], y_train)\n",
    "\n",
    "# Prediction with test data\n",
    "pca_preds = regr.predict(X_test_reduced)\n",
    "pca_score = mean_squared_error(y_test, pca_preds)\n",
    "print(f'Mean Squared Error from PCA Regression: {pca_score}')"
   ]
  },
  {
   "cell_type": "code",
   "execution_count": 36,
   "id": "9616ecbe",
   "metadata": {},
   "outputs": [
    {
     "data": {
      "text/plain": [
       "(-1.0, 19.9)"
      ]
     },
     "execution_count": 36,
     "metadata": {},
     "output_type": "execute_result"
    },
    {
     "data": {
      "image/png": "[encoded data removed]",
      "text/plain": [
       "<Figure size 432x288 with 1 Axes>"
      ]
     },
     "metadata": {},
     "output_type": "display_data"
    }
   ],
   "source": [
    "# Fit a PLS model with M chosen by cross-validation\n",
    "\n",
    "n = len(X_train)\n",
    "\n",
    "# 10-fold CV, with shuffle\n",
    "kf_10 = model_selection.KFold(n_splits=10, shuffle=True, random_state=1)\n",
    "\n",
    "mse = []\n",
    "\n",
    "for i in np.arange(1, 20):\n",
    "    pls = PLSRegression(n_components=i)\n",
    "    score = model_selection.cross_val_score(pls, scale(X_train), y_train, cv=kf_10, scoring='neg_mean_squared_error').mean()\n",
    "    mse.append(-score)\n",
    "\n",
    "# Plot results\n",
    "plt.plot(np.arange(1, 20), np.array(mse), '-v')\n",
    "plt.xlabel('Number of principal components in regression')\n",
    "plt.ylabel('MSE')\n",
    "plt.title('Apps')\n",
    "plt.xlim(xmin=-1)"
   ]
  },
  {
   "cell_type": "code",
   "execution_count": 38,
   "id": "ab16ca84",
   "metadata": {},
   "outputs": [
    {
     "name": "stdout",
     "output_type": "stream",
     "text": [
      "Mean Squared Error from PLS Regression: 1903668.4954968006\n"
     ]
    }
   ],
   "source": [
    "pls = PLSRegression(n_components=12)\n",
    "pls_model = pls.fit(scale(X_train), y_train)\n",
    "pls_preds = pls.predict(scale(X_test))\n",
    "pls_score = mean_squared_error(y_test, pls_preds)\n",
    "print(f'Mean Squared Error from PLS Regression: {pls_score}')"
   ]
  },
  {
   "cell_type": "markdown",
   "id": "7b586c55",
   "metadata": {},
   "source": [
    "### 11"
   ]
  },
  {
   "cell_type": "code",
   "execution_count": 42,
   "id": "58859af8",
   "metadata": {},
   "outputs": [],
   "source": [
    "# Load data and split into train-test\n",
    "boston = pd.read_csv('../../data/Boston.csv')\n",
    "\n",
    "X = boston.drop('crim', axis =1)\n",
    "y = boston['crim']\n",
    "\n",
    "X_train, X_test, y_train, y_test = train_test_split(X,y,random_state=0)"
   ]
  },
  {
   "cell_type": "code",
   "execution_count": 44,
   "id": "d7b34d23",
   "metadata": {},
   "outputs": [
    {
     "name": "stdout",
     "output_type": "stream",
     "text": [
      "Mean Squared Error from Linear Regression: 52.55389272005458\n"
     ]
    }
   ],
   "source": [
    "# Fit simple linear regression with no CV\n",
    "lm = LinearRegression()\n",
    "lm_model = lm.fit(X_train,y_train)\n",
    "lm_preds = lm_model.predict(X_test)\n",
    "lm_score = mean_squared_error(y_test, lm_preds)\n",
    "print(f'Mean Squared Error from Linear Regression: {lm_score}')"
   ]
  },
  {
   "cell_type": "code",
   "execution_count": 45,
   "id": "2885c4dd",
   "metadata": {},
   "outputs": [
    {
     "name": "stdout",
     "output_type": "stream",
     "text": [
      "Mean Squared Error from Ridge Regression: 52.902469650515705\n"
     ]
    }
   ],
   "source": [
    "# Fit ridge regression with lambda determined by CV \n",
    "alphas = [0.01,0.1,1.0,10.0]\n",
    "ridge_reg = RidgeCV(alphas = alphas, scoring = 'neg_mean_squared_error', cv =5)\n",
    "ridge_model_cv = ridge_reg.fit(X_train,y_train)\n",
    "ridge_model = Ridge(alpha = ridge_model_cv.alpha_).fit(X_train,y_train)\n",
    "ridge_preds = ridge_model.predict(X_test)\n",
    "ridge_score = mean_squared_error(y_test, ridge_preds)\n",
    "print(f'Mean Squared Error from Ridge Regression: {ridge_score}')"
   ]
  },
  {
   "cell_type": "code",
   "execution_count": 46,
   "id": "faf2689a",
   "metadata": {},
   "outputs": [
    {
     "name": "stdout",
     "output_type": "stream",
     "text": [
      "Mean Squared Error from Lasso Regression: 52.3536540236176\n"
     ]
    },
    {
     "data": {
      "text/plain": [
       "zn         0.039325\n",
       "indus     -0.108928\n",
       "chas      -0.000000\n",
       "nox       -0.000000\n",
       "rm         0.702803\n",
       "age       -0.017436\n",
       "dis       -0.735894\n",
       "rad        0.549838\n",
       "tax       -0.003375\n",
       "ptratio   -0.159076\n",
       "black      0.001745\n",
       "lstat      0.202389\n",
       "medv      -0.181921\n",
       "dtype: float64"
      ]
     },
     "execution_count": 46,
     "metadata": {},
     "output_type": "execute_result"
    }
   ],
   "source": [
    "# Fit Lasso regression using cross-val to select lambda\n",
    "lasso_reg = LassoCV(alphas=alphas, cv=10, max_iter=10000)\n",
    "lasso_model_cv = lasso_reg.fit(X_train,y_train)\n",
    "lasso_model = Lasso(alpha = lasso_model_cv.alpha_).fit(X_train,y_train)\n",
    "lasso_preds = lasso_model.predict(X_test)\n",
    "lasso_score = mean_squared_error(y_test, lasso_preds)\n",
    "print(f'Mean Squared Error from Lasso Regression: {lasso_score}')\n",
    "\n",
    "# Report number of non-zero coefficients\n",
    "pd.Series(lasso_model.coef_, index = X_train.columns) # 1 zero coefficient, 17 non-zero"
   ]
  },
  {
   "cell_type": "code",
   "execution_count": 47,
   "id": "cad311bc",
   "metadata": {},
   "outputs": [],
   "source": [
    "# Update model with removing features that had a coefficient of 0 in lasso regressio\n",
    "X_train = X_train.drop(['chas', 'nox'], axis=1)\n",
    "X_test = X_test.drop(['chas', 'nox'], axis=1)"
   ]
  },
  {
   "cell_type": "code",
   "execution_count": 49,
   "id": "10da64bd",
   "metadata": {},
   "outputs": [
    {
     "name": "stdout",
     "output_type": "stream",
     "text": [
      "Mean Squared Error from Linear Regression: 53.1439761790761\n"
     ]
    }
   ],
   "source": [
    "# Fit simple linear regression with no CV\n",
    "lm = LinearRegression()\n",
    "lm_model = lm.fit(X_train,y_train)\n",
    "lm_preds = lm_model.predict(X_test)\n",
    "lm_score = mean_squared_error(y_test, lm_preds)\n",
    "print(f'Mean Squared Error from Linear Regression: {lm_score}')"
   ]
  },
  {
   "cell_type": "code",
   "execution_count": 50,
   "id": "8562ecef",
   "metadata": {},
   "outputs": [
    {
     "name": "stdout",
     "output_type": "stream",
     "text": [
      "Mean Squared Error from Ridge Regression: 52.949564060020094\n"
     ]
    }
   ],
   "source": [
    "# Fit ridge regression with lambda determined by CV \n",
    "alphas = [0.01,0.1,1.0,10.0]\n",
    "ridge_reg = RidgeCV(alphas = alphas, scoring = 'neg_mean_squared_error', cv =5)\n",
    "ridge_model_cv = ridge_reg.fit(X_train,y_train)\n",
    "ridge_model = Ridge(alpha = ridge_model_cv.alpha_).fit(X_train,y_train)\n",
    "ridge_preds = ridge_model.predict(X_test)\n",
    "ridge_score = mean_squared_error(y_test, ridge_preds)\n",
    "print(f'Mean Squared Error from Ridge Regression: {ridge_score}')"
   ]
  },
  {
   "cell_type": "code",
   "execution_count": 51,
   "id": "4dd04e11",
   "metadata": {},
   "outputs": [
    {
     "name": "stdout",
     "output_type": "stream",
     "text": [
      "Mean Squared Error from Lasso Regression: 52.353658807379766\n"
     ]
    },
    {
     "data": {
      "text/plain": [
       "zn         0.039325\n",
       "indus     -0.108929\n",
       "rm         0.702808\n",
       "age       -0.017437\n",
       "dis       -0.735893\n",
       "rad        0.549834\n",
       "tax       -0.003375\n",
       "ptratio   -0.159075\n",
       "black      0.001745\n",
       "lstat      0.202390\n",
       "medv      -0.181920\n",
       "dtype: float64"
      ]
     },
     "execution_count": 51,
     "metadata": {},
     "output_type": "execute_result"
    }
   ],
   "source": [
    "# Fit Lasso regression using cross-val to select lambda\n",
    "lasso_reg = LassoCV(alphas=alphas, cv=10, max_iter=10000)\n",
    "lasso_model_cv = lasso_reg.fit(X_train,y_train)\n",
    "lasso_model = Lasso(alpha = lasso_model_cv.alpha_).fit(X_train,y_train)\n",
    "lasso_preds = lasso_model.predict(X_test)\n",
    "lasso_score = mean_squared_error(y_test, lasso_preds)\n",
    "print(f'Mean Squared Error from Lasso Regression: {lasso_score}')\n",
    "\n",
    "# Report number of non-zero coefficients\n",
    "pd.Series(lasso_model.coef_, index = X_train.columns) # 1 zero coefficient, 17 non-zero"
   ]
  },
  {
   "cell_type": "code",
   "execution_count": 52,
   "id": "326f0375",
   "metadata": {},
   "outputs": [
    {
     "name": "stdout",
     "output_type": "stream",
     "text": [
      "Mean Squared Error from Linear Regression: 33.87095743858155\n"
     ]
    }
   ],
   "source": [
    "# Create polynomial transformation with degree 2\n",
    "from sklearn.preprocessing import PolynomialFeatures\n",
    "poly = PolynomialFeatures(2)\n",
    "X_train_poly = poly.fit_transform(X_train)\n",
    "X_test_poly = poly.transform(X_test)\n",
    "\n",
    "# Fit polynomial linear regression\n",
    "lm = LinearRegression()\n",
    "lm_model = lm.fit(X_train_poly,y_train)\n",
    "lm_preds = lm_model.predict(X_test_poly)\n",
    "lm_score = mean_squared_error(y_test, lm_preds)\n",
    "print(f'Mean Squared Error from Linear Regression: {lm_score}')"
   ]
  },
  {
   "cell_type": "code",
   "execution_count": null,
   "id": "18ecc6cf",
   "metadata": {},
   "outputs": [],
   "source": []
  }
 ],
 "metadata": {
  "kernelspec": {
   "display_name": "Python 3 (ipykernel)",
   "language": "python",
   "name": "python3"
  },
  "language_info": {
   "codemirror_mode": {
    "name": "ipython",
    "version": 3
   },
   "file_extension": ".py",
   "mimetype": "text/x-python",
   "name": "python",
   "nbconvert_exporter": "python",
   "pygments_lexer": "ipython3",
   "version": "3.7.7"
  }
 },
 "nbformat": 4,
 "nbformat_minor": 5
}
